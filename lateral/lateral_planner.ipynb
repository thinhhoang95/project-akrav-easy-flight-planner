{
 "cells": [
  {
   "cell_type": "code",
   "execution_count": 1,
   "metadata": {},
   "outputs": [
    {
     "name": "stdout",
     "output_type": "stream",
     "text": [
      "Loading the route graph... This may take a while...\n",
      "Route graph nodes: 18800, edges: 513420\n"
     ]
    }
   ],
   "source": [
    "%load_ext autoreload\n",
    "%autoreload 2\n",
    "\n",
    "import networkx as nx\n",
    "from dotenv import load_dotenv\n",
    "import os, sys\n",
    "import numpy as np\n",
    "from matplotlib import pyplot as plt\n",
    "\n",
    "\n",
    "load_dotenv()\n",
    "PROJECT_ROOT = os.getenv('PROJECT_ROOT')\n",
    "# Add the project root to the Python path\n",
    "sys.path.append(PROJECT_ROOT)\n",
    "\n",
    "# Load the route graph\n",
    "print('Loading the route graph... This may take a while...')\n",
    "route_graph = nx.read_graphml(os.path.join(PROJECT_ROOT, \"data\", \"graphs\", \"route_graph_reduced.graphml\"))\n",
    "print(f'Route graph nodes: {route_graph.number_of_nodes()}, edges: {route_graph.number_of_edges()}')\n",
    "\n"
   ]
  },
  {
   "cell_type": "code",
   "execution_count": 2,
   "metadata": {},
   "outputs": [],
   "source": [
    "class CompliantRouteGraphProcessor:\n",
    "    def __init__(self):\n",
    "        pass \n",
    "    \n",
    "    def rad_comply(self, route_graph, rad_file):\n",
    "        # TODO: Load the RAD file from EUROCONTROL and start pruning the route graph\n",
    "        # based on restrictions\n",
    "        return route_graph\n",
    "    \n",
    "CRGP = CompliantRouteGraphProcessor()\n",
    "# Comply the route network to the latest RAD publication\n",
    "route_graph = CRGP.rad_comply(route_graph, None)"
   ]
  },
  {
   "cell_type": "code",
   "execution_count": 3,
   "metadata": {},
   "outputs": [],
   "source": [
    "import pandas as pd\n",
    "airports_df = pd.read_csv(os.path.join(PROJECT_ROOT, \"data\", \"airac\", \"airports.csv\"))\n"
   ]
  },
  {
   "cell_type": "code",
   "execution_count": 4,
   "metadata": {},
   "outputs": [
    {
     "name": "stderr",
     "output_type": "stream",
     "text": [
      "Adding nodes to subset: 100%|██████████| 18800/18800 [00:00<00:00, 210902.09it/s]\n",
      "Adding edges to subset: 100%|██████████| 513420/513420 [00:00<00:00, 1044687.57it/s]\n"
     ]
    },
    {
     "name": "stdout",
     "output_type": "stream",
     "text": [
      "There are 3330 nodes in the subset, and 91068 edges\n",
      "The cumulative cost is 243.14409088937325 and the cumulative distance is 384.40106835881267\n",
      "Great circle distance is 326.3772566082882\n"
     ]
    }
   ],
   "source": [
    "from lateral.latopt import LateralFlight\n",
    "\n",
    "\n",
    "flight1 = LateralFlight(\"A320\", \"LFPG\", \"LFBO\")\n",
    "proc_dir = os.path.join(PROJECT_ROOT, \"data\", \"airac\",\"proc\")\n",
    "rg1, dist_origin_dest = flight1.route_graph_subset(route_graph, airports_df, max_distance=100, w_dct=1.2,\n",
    "                                                   origin_runway='27L', destination_runway='32L', use_sid_star=True,\n",
    "                                                   w_proc=0.001)\n",
    "print(f'There are {rg1.number_of_nodes()} nodes in the subset, and {rg1.number_of_edges()} edges')\n",
    "fp1, ccost, cdist = flight1.plan()\n",
    "print(f'The cumulative cost is {ccost} and the cumulative distance is {cdist}')\n",
    "print(f'Great circle distance is {dist_origin_dest}')"
   ]
  },
  {
   "cell_type": "code",
   "execution_count": 5,
   "metadata": {},
   "outputs": [],
   "source": [
    "# lfpg_edges = list(rg1.edges(data=True, nbunch=['SECH8N_SECHE']))\n",
    "# for edge in lfpg_edges:\n",
    "#     print(f\"Edge from: {edge}\")\n"
   ]
  },
  {
   "cell_type": "code",
   "execution_count": 6,
   "metadata": {},
   "outputs": [
    {
     "name": "stdout",
     "output_type": "stream",
     "text": [
      "LFPG ERIX6A ERTOK MOTAL J18 VEROS G54 CTX G28 LMG A34 BUGUS BE272 SECH8N LFBO\n"
     ]
    }
   ],
   "source": [
    "from utils.flightplans import format_flightplan\n",
    "\n",
    "fp_str = format_flightplan(fp1)\n",
    "print(fp_str)"
   ]
  },
  {
   "cell_type": "code",
   "execution_count": 19,
   "metadata": {},
   "outputs": [
    {
     "name": "stderr",
     "output_type": "stream",
     "text": [
      "Adding nodes to subset: 100%|██████████| 18800/18800 [00:00<00:00, 197103.71it/s]\n",
      "Adding edges to subset: 100%|██████████| 513420/513420 [00:01<00:00, 483847.57it/s]\n"
     ]
    },
    {
     "name": "stdout",
     "output_type": "stream",
     "text": [
      "There are 3250 nodes in the subset, and 129996 edges\n",
      "The cumulative cost is 1228.9308047237835 and the cumulative distance is 1359.604723783263\n",
      "Great circle distance is 1292.110637873647\n"
     ]
    }
   ],
   "source": [
    "from lateral.latopt import LateralFlight\n",
    "\n",
    "\n",
    "flight2 = LateralFlight(\"A320\", \"LGAV\", \"EGKK\")\n",
    "proc_dir = os.path.join(PROJECT_ROOT, \"data\", \"airac\",\"proc\")\n",
    "rg2, dist_origin_dest = flight2.route_graph_subset(route_graph, airports_df, max_distance=100, w_dct=1.2,\n",
    "                                                   origin_runway='21L', destination_runway='36L', use_sid_star=True,\n",
    "                                                   w_proc=0.001)\n",
    "\n",
    "print(f'There are {rg2.number_of_nodes()} nodes in the subset, and {rg2.number_of_edges()} edges')\n",
    "fp2, ccost, cdist = flight2.plan()\n",
    "print(f'The cumulative cost is {ccost} and the cumulative distance is {cdist}')\n",
    "print(f'Great circle distance is {dist_origin_dest}')"
   ]
  },
  {
   "cell_type": "code",
   "execution_count": 20,
   "metadata": {},
   "outputs": [],
   "source": [
    "from utils.ploter import plot_flightplan\n",
    "# plot_flightplan(fp2, '0')"
   ]
  },
  {
   "cell_type": "code",
   "execution_count": 21,
   "metadata": {},
   "outputs": [
    {
     "name": "stdout",
     "output_type": "stream",
     "text": [
      "LGAV KOR1F KOR UL53 KRK UL995 TIGRA L995 KAPPO L612 CHI N503 VIC L613 HOC Y112 RLP UT10 NITAR UQ220 KESAX UT421 KUNAV KUNA1G EGKK\n"
     ]
    }
   ],
   "source": [
    "fp_str = format_flightplan(fp2)\n",
    "print(fp_str)"
   ]
  },
  {
   "cell_type": "code",
   "execution_count": null,
   "metadata": {},
   "outputs": [],
   "source": []
  }
 ],
 "metadata": {
  "kernelspec": {
   "display_name": "mayflower",
   "language": "python",
   "name": "python3"
  },
  "language_info": {
   "codemirror_mode": {
    "name": "ipython",
    "version": 3
   },
   "file_extension": ".py",
   "mimetype": "text/x-python",
   "name": "python",
   "nbconvert_exporter": "python",
   "pygments_lexer": "ipython3",
   "version": "3.10.16"
  }
 },
 "nbformat": 4,
 "nbformat_minor": 2
}
