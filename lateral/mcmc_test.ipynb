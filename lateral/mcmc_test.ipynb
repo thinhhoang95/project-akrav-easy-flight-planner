{
 "cells": [
  {
   "cell_type": "code",
   "execution_count": 1,
   "metadata": {},
   "outputs": [],
   "source": [
    "%load_ext autoreload\n",
    "%autoreload 2\n",
    "\n",
    "from dotenv import load_dotenv\n",
    "import os\n",
    "load_dotenv()\n",
    "PROJECT_ROOT = os.getenv('PROJECT_ROOT')\n",
    "\n",
    "# Add PROJECT_ROOT to the Python path\n",
    "import sys\n",
    "sys.path.append(PROJECT_ROOT)\n",
    "\n"
   ]
  },
  {
   "cell_type": "code",
   "execution_count": 2,
   "metadata": {},
   "outputs": [
    {
     "name": "stdout",
     "output_type": "stream",
     "text": [
      "Origin: EGLL - HEATHROW (51.4775, -0.461389, 09R)\n",
      "Destination: UKBB - BORYSPIL INTL (50.344722, 30.893333, 18R)\n"
     ]
    }
   ],
   "source": [
    "import pandas as pd\n",
    "\n",
    "ORIGIN_ICAO = 'EGLL'\n",
    "DEST_ICAO = 'UKBB'\n",
    "ORIGIN_RWY = '09R'\n",
    "DEST_RWY = '18R'\n",
    "\n",
    "airports_df = pd.read_csv(os.path.join(PROJECT_ROOT, \"data\", \"airac\", \"airports.csv\"))\n",
    "\n",
    "\n",
    "# Get the latitude and longitude of the origin and destination\n",
    "origin_lat = airports_df[airports_df['icao'] == ORIGIN_ICAO]['latitude'].values[0]\n",
    "origin_lon = airports_df[airports_df['icao'] == ORIGIN_ICAO]['longitude'].values[0]\n",
    "dest_lat = airports_df[airports_df['icao'] == DEST_ICAO]['latitude'].values[0]\n",
    "dest_lon = airports_df[airports_df['icao'] == DEST_ICAO]['longitude'].values[0]\n",
    "# Origin and destination airport names\n",
    "origin_name = airports_df[airports_df['icao'] == ORIGIN_ICAO]['name'].values[0]\n",
    "dest_name = airports_df[airports_df['icao'] == DEST_ICAO]['name'].values[0]\n",
    "\n",
    "print(f'Origin: {ORIGIN_ICAO} - {origin_name} ({origin_lat}, {origin_lon}, {ORIGIN_RWY})')\n",
    "print(f'Destination: {DEST_ICAO} - {dest_name} ({dest_lat}, {dest_lon}, {DEST_RWY})')"
   ]
  },
  {
   "cell_type": "code",
   "execution_count": 3,
   "metadata": {},
   "outputs": [
    {
     "name": "stdout",
     "output_type": "stream",
     "text": [
      "Subsetting the ATS graph to the great circle path between origin and destination...\n"
     ]
    },
    {
     "name": "stderr",
     "output_type": "stream",
     "text": [
      "Adding nodes to subset: 100%|██████████| 9558/9558 [00:00<00:00, 432428.59it/s]\n",
      "Adding edges to subset: 100%|██████████| 25011/25011 [00:00<00:00, 1748774.52it/s]\n"
     ]
    },
    {
     "name": "stdout",
     "output_type": "stream",
     "text": [
      "ATS graph loaded. Nodes: 1670, edges: 3817\n",
      "Building FRA routing options...\n",
      "Found 1037 FRA points within 100nm of the great circle path between origin and destination.          \n",
      "Merging these into the ATS graph...\n",
      "223 FRA points renamed for BALTIC & FRAIT & SECSI & SEE FRA\n"
     ]
    },
    {
     "name": "stderr",
     "output_type": "stream",
     "text": [
      "BALTIC & FRAIT & SECSI & SEE FRA: 100%|██████████| 267/267 [00:00<00:00, 1323.28it/s]\n"
     ]
    },
    {
     "name": "stdout",
     "output_type": "stream",
     "text": [
      "35 FRA points renamed for BELFRA\n"
     ]
    },
    {
     "name": "stderr",
     "output_type": "stream",
     "text": [
      "BELFRA: 100%|██████████| 39/39 [00:00<00:00, 13109.30it/s]\n"
     ]
    },
    {
     "name": "stdout",
     "output_type": "stream",
     "text": [
      "90 FRA points renamed for BOREALIS FRA\n"
     ]
    },
    {
     "name": "stderr",
     "output_type": "stream",
     "text": [
      "BOREALIS FRA: 100%|██████████| 202/202 [00:00<00:00, 2901.16it/s]\n"
     ]
    },
    {
     "name": "stdout",
     "output_type": "stream",
     "text": [
      "31 FRA points renamed for EDMM EAST\n"
     ]
    },
    {
     "name": "stderr",
     "output_type": "stream",
     "text": [
      "EDMM EAST: 100%|██████████| 35/35 [00:00<00:00, 17131.60it/s]\n"
     ]
    },
    {
     "name": "stdout",
     "output_type": "stream",
     "text": [
      "44 FRA points renamed for EDUU EAST\n"
     ]
    },
    {
     "name": "stderr",
     "output_type": "stream",
     "text": [
      "EDUU EAST: 100%|██████████| 49/49 [00:00<00:00, 17199.84it/s]\n"
     ]
    },
    {
     "name": "stdout",
     "output_type": "stream",
     "text": [
      "53 FRA points renamed for EDUU NORTH\n"
     ]
    },
    {
     "name": "stderr",
     "output_type": "stream",
     "text": [
      "EDUU NORTH: 100%|██████████| 72/72 [00:00<00:00, 9942.05it/s]\n"
     ]
    },
    {
     "name": "stdout",
     "output_type": "stream",
     "text": [
      "10 FRA points renamed for EDUU WEST\n"
     ]
    },
    {
     "name": "stderr",
     "output_type": "stream",
     "text": [
      "EDUU WEST: 100%|██████████| 16/16 [00:00<00:00, 42206.83it/s]\n"
     ]
    },
    {
     "name": "stdout",
     "output_type": "stream",
     "text": [
      "25 FRA points renamed for EDWW EAST\n"
     ]
    },
    {
     "name": "stderr",
     "output_type": "stream",
     "text": [
      "EDWW EAST: 100%|██████████| 30/30 [00:00<00:00, 26340.62it/s]\n"
     ]
    },
    {
     "name": "stdout",
     "output_type": "stream",
     "text": [
      "2 FRA points renamed for LFFRANW\n"
     ]
    },
    {
     "name": "stderr",
     "output_type": "stream",
     "text": [
      "LFFRANW: 100%|██████████| 8/8 [00:00<00:00, 71392.41it/s]\n"
     ]
    },
    {
     "name": "stdout",
     "output_type": "stream",
     "text": [
      "130 FRA points renamed for MUAC FRA\n"
     ]
    },
    {
     "name": "stderr",
     "output_type": "stream",
     "text": [
      "MUAC FRA: 100%|██████████| 186/186 [00:00<00:00, 2023.45it/s]\n"
     ]
    },
    {
     "name": "stdout",
     "output_type": "stream",
     "text": [
      "127 FRA points renamed for UKNESFRA\n"
     ]
    },
    {
     "name": "stderr",
     "output_type": "stream",
     "text": [
      "UKNESFRA: 100%|██████████| 133/133 [00:00<00:00, 2050.73it/s]\n"
     ]
    },
    {
     "name": "stdout",
     "output_type": "stream",
     "text": [
      "FRA graph merged into ATS graph. Nodes: 2663, edges: 121054\n",
      "Computing cost for the ATS-FRA route graph...\n"
     ]
    },
    {
     "name": "stderr",
     "output_type": "stream",
     "text": [
      "Adding nodes to subset: 100%|██████████| 2663/2663 [00:00<00:00, 764139.81it/s]\n",
      "Adding edges to subset: 100%|██████████| 121054/121054 [00:00<00:00, 752814.55it/s]\n"
     ]
    },
    {
     "name": "stdout",
     "output_type": "stream",
     "text": [
      "Adding SID and STAR graphs to the subset...\n",
      "Route graph subset created. Nodes: 2919, edges: 121334\n",
      "Great circle distance between origin and destination: 1179.84 nm\n"
     ]
    },
    {
     "name": "stderr",
     "output_type": "stream",
     "text": [
      "Processing predecessors list: 100%|██████████| 2919/2919 [00:00<00:00, 366660.88it/s]\n"
     ]
    }
   ],
   "source": [
    "from nav_graph import generate_navigraph, add_predecessor_access_for_graph\n",
    "\n",
    "route_graph = generate_navigraph(ORIGIN_ICAO, DEST_ICAO, origin_lat, origin_lon, dest_lat, dest_lon,\n",
    "                                  ORIGIN_RWY, DEST_RWY,\n",
    "                                  w_dct=1.0, w_fra=1.0, w_proc=0.2)\n",
    "add_predecessor_access_for_graph(route_graph)"
   ]
  },
  {
   "cell_type": "code",
   "execution_count": 4,
   "metadata": {},
   "outputs": [
    {
     "name": "stdout",
     "output_type": "stream",
     "text": [
      "Origin node EGLL_09R not found in graph. Available nodes for EGLL:\n",
      "  EGLL\n",
      "Using EGLL as origin node instead\n",
      "Destination node UKBB_18R not found in graph. Available nodes for UKBB:\n",
      "  UKBB\n",
      "Using UKBB as destination node instead\n",
      "Shortest path found with 26 waypoints\n",
      "EGLL CPT5J WOD BPK Q295 BRAIN M197 REDFA DERAM L980 POLON M70 OKROT SLV SLV2J UKBB\n"
     ]
    }
   ],
   "source": [
    "import networkx as nx\n",
    "from utils.flightplans import format_flightplan, get_detailed_flightplan_from_waypoint_list\n",
    "from utils.haversine import haversine_distance\n",
    "\n",
    "# Find the shortest path between origin and destination\n",
    "origin_node = f\"{ORIGIN_ICAO}_{ORIGIN_RWY}\"\n",
    "dest_node = f\"{DEST_ICAO}_{DEST_RWY}\"\n",
    "\n",
    "# Check if the nodes exist in the graph\n",
    "if origin_node not in route_graph.nodes:\n",
    "    print(f\"Origin node {origin_node} not found in graph. Available nodes for {ORIGIN_ICAO}:\")\n",
    "    for node in route_graph.nodes:\n",
    "        if node.startswith(ORIGIN_ICAO):\n",
    "            print(f\"  {node}\")\n",
    "    # Try to find an alternative\n",
    "    for node in route_graph.nodes:\n",
    "        if node.startswith(ORIGIN_ICAO):\n",
    "            origin_node = node\n",
    "            print(f\"Using {origin_node} as origin node instead\")\n",
    "            break\n",
    "\n",
    "if dest_node not in route_graph.nodes:\n",
    "    print(f\"Destination node {dest_node} not found in graph. Available nodes for {DEST_ICAO}:\")\n",
    "    for node in route_graph.nodes:\n",
    "        if node.startswith(DEST_ICAO):\n",
    "            print(f\"  {node}\")\n",
    "    # Try to find an alternative\n",
    "    for node in route_graph.nodes:\n",
    "        if node.startswith(DEST_ICAO):\n",
    "            dest_node = node\n",
    "            print(f\"Using {dest_node} as destination node instead\")\n",
    "            break\n",
    "\n",
    "# Find the shortest path\n",
    "try:\n",
    "    shortest_path = nx.shortest_path(route_graph, source=origin_node, target=dest_node, weight='cost')\n",
    "    print(f\"Shortest path found with {len(shortest_path)} waypoints\")\n",
    "    \n",
    "    \n",
    "    result = get_detailed_flightplan_from_waypoint_list(route_graph, shortest_path)\n",
    "\n",
    "    # Print the flight plan\n",
    "    print(format_flightplan(result))\n",
    "\n",
    "except nx.NetworkXNoPath:\n",
    "    print(f\"No path found between {origin_node} and {dest_node}\")\n",
    "except Exception as e:\n",
    "    print(f\"Error finding path: {e}\")"
   ]
  },
  {
   "cell_type": "code",
   "execution_count": 5,
   "metadata": {},
   "outputs": [
    {
     "name": "stdout",
     "output_type": "stream",
     "text": [
      "EGLL CPT5J_D130B CPT5J_D253K CPT5J_WOD WOD BPK TOTRI MATCH BRAIN GASBA RATLO REDFA ISMEF HLZ ARSAP DERAM POLON SOMOX TOLPA OKROT SLV SLV2J_SLV SLV2J_SL32B SLV2J_SLV50 SLV2J_D266B UKBB\n"
     ]
    }
   ],
   "source": [
    "print(\" \".join(shortest_path))"
   ]
  },
  {
   "cell_type": "markdown",
   "metadata": {},
   "source": [
    "# MCMC Sampling with Metropolis-Hastings"
   ]
  },
  {
   "cell_type": "code",
   "execution_count": 6,
   "metadata": {},
   "outputs": [
    {
     "name": "stdout",
     "output_type": "stream",
     "text": [
      "Total time: 167.93 seconds. Total accepted: 14870/45000 => acceptance rate: 0.33\n"
     ]
    }
   ],
   "source": [
    "from planner_pivot_with_heuristics import mcmc_step\n",
    "MAX_ITER = 50_000\n",
    "BURN_IN = 5_000 # can go as high as 10_000\n",
    "THINNING = 25 # can go as high as 50 \n",
    "sampled_routes = []\n",
    "temperature = 10\n",
    "\n",
    "total_accepted = 0\n",
    "\n",
    "route = shortest_path\n",
    "import time \n",
    "time_start = time.time()\n",
    "for i in range(MAX_ITER):\n",
    "    new_route, accepted = mcmc_step(route_graph, route, temperature, verbose = False,\n",
    "                                    max_depth=8)\n",
    "    if i > BURN_IN:\n",
    "        if accepted:\n",
    "            route = new_route\n",
    "            total_accepted += 1\n",
    "\n",
    "        if i % THINNING == 0:\n",
    "            sampled_routes.append(route)\n",
    "\n",
    "    print(f'{i < BURN_IN and \"Burning in\" or \"Sampling\"} | Iteration {i+1}, accepted: {total_accepted}               ', end='\\r')\n",
    "\n",
    "time_end = time.time()\n",
    "print(f'Total time: {time_end - time_start:.2f} seconds. Total accepted: {total_accepted}/{MAX_ITER - BURN_IN} => acceptance rate: {total_accepted/(MAX_ITER - BURN_IN):.2f}')\n"
   ]
  },
  {
   "cell_type": "code",
   "execution_count": 7,
   "metadata": {},
   "outputs": [
    {
     "data": {
      "image/png": "[encoded data removed]",
      "text/plain": [
       "<Figure size 600x300 with 1 Axes>"
      ]
     },
     "metadata": {},
     "output_type": "display_data"
    },
    {
     "name": "stdout",
     "output_type": "stream",
     "text": [
      "Total unique routes: 65\n",
      "Most common route appeared 836 times\n",
      "Top 10 most common routes:\n",
      "1. EGLL CPT5J WOD BPK CLN L620 REDFA SLV SLV2J UKBB - 836 occurrences (46.5%)\n",
      "2. EGLL CPT5J WOD BPK Q295 MATCH CLN L620 REDFA SLV SLV2J UKBB - 349 occurrences (19.4%)\n",
      "3. EGLL CPT5J WOD BPK Q295 BRAIN M197 GASBA M189 CLN L620 REDFA SLV SLV2J UKBB - 148 occurrences (8.2%)\n",
      "4. EGLL CPT5J WOD BPK Q295 BRAIN P44 CLN L620 REDFA SLV SLV2J UKBB - 89 occurrences (4.9%)\n",
      "5. EGLL CPT5J WOD BPK CLN P44 RATLO M197 REDFA SLV SLV2J UKBB - 53 occurrences (2.9%)\n",
      "6. EGLL CPT5J WOD BPK CLN L620 REDFA OMAVA L980 USTIL SLV SLV2J UKBB - 47 occurrences (2.6%)\n",
      "7. EGLL CPT5J WOD BPK CLN L620 REDFA BALBA T425 USTIL SLV SLV2J UKBB - 36 occurrences (2.0%)\n",
      "8. EGLL CPT5J WOD BPK Q295 MATCH CLN P44 RATLO M197 REDFA SLV SLV2J UKBB - 23 occurrences (1.3%)\n",
      "9. EGLL CPT5J WOD BPK Q295 BRAIN P44 DAGGA M604 GASBA M189 CLN L620 REDFA SLV SLV2J UKBB - 23 occurrences (1.3%)\n",
      "10. EGLL CPT5J WOD BPK Q295 MATCH CLN L620 REDFA BALBA T425 USTIL SLV SLV2J UKBB - 20 occurrences (1.1%)\n"
     ]
    }
   ],
   "source": [
    "formatted_sampled_routes = [format_flightplan(get_detailed_flightplan_from_waypoint_list(route_graph, route)) for route in sampled_routes]\n",
    "import matplotlib.pyplot as plt\n",
    "from collections import Counter\n",
    "\n",
    "# Count the frequency of each unique route\n",
    "route_counts = Counter(formatted_sampled_routes)\n",
    "\n",
    "# Sort routes by frequency (most common first)\n",
    "sorted_routes = route_counts.most_common()\n",
    "\n",
    "# Extract routes and their counts\n",
    "routes = [route for route, _ in sorted_routes]\n",
    "counts = [count for _, count in sorted_routes]\n",
    "\n",
    "# Create the histogram\n",
    "plt.figure(figsize=(6, 3))\n",
    "plt.bar(range(len(routes)), counts)\n",
    "plt.xlabel('Route Variants')\n",
    "plt.ylabel('Frequency')\n",
    "plt.title('Histogram of Sampled Routes')\n",
    "\n",
    "# If there are many routes, limit the x-axis labels to avoid overcrowding\n",
    "if len(routes) > 10:\n",
    "    plt.xticks(range(len(routes)), [f\"Route {i+1}\" for i in range(len(routes))], rotation=45)\n",
    "    # Show the actual routes for the top 5 most common\n",
    "    for i in range(min(5, len(routes))):\n",
    "        pass\n",
    "        # plt.annotate(f\"{routes[i][:30]}...\", \n",
    "        #              xy=(i, counts[i]), \n",
    "        #              xytext=(0, 5),\n",
    "        #              textcoords=\"offset points\",\n",
    "        #              ha='center', va='bottom',\n",
    "        #              rotation=45)\n",
    "    # plt.figtext(0.5, 0.01, \"Note: Only labels for top 5 routes are shown\", ha='center')\n",
    "else:\n",
    "    plt.xticks(range(len(routes)), routes, rotation=45)\n",
    "\n",
    "plt.tight_layout()\n",
    "plt.show()\n",
    "\n",
    "# Print statistics about the sampled routes\n",
    "print(f\"Total unique routes: {len(route_counts)}\")\n",
    "print(f\"Most common route appeared {route_counts.most_common(1)[0][1]} times\")\n",
    "print(f\"Top 10 most common routes:\")\n",
    "for i, (route, count) in enumerate(route_counts.most_common(10)):\n",
    "    print(f\"{i+1}. {route} - {count} occurrences ({count/len(formatted_sampled_routes)*100:.1f}%)\")\n"
   ]
  },
  {
   "cell_type": "code",
   "execution_count": null,
   "metadata": {},
   "outputs": [],
   "source": [
    "# Get the least common route\n",
    "least_common_route, count = route_counts.most_common()[-10]\n",
    "print(f\"Least common route: {least_common_route} - appeared {count} times\")"
   ]
  },
  {
   "cell_type": "markdown",
   "metadata": {},
   "source": [
    "# C++ version"
   ]
  },
  {
   "cell_type": "code",
   "execution_count": 20,
   "metadata": {},
   "outputs": [],
   "source": [
    "sys.path.append(os.path.join(PROJECT_ROOT, \"lateral\", \"splicer\"))\n",
    "import splicer as splicer"
   ]
  },
  {
   "cell_type": "code",
   "execution_count": 21,
   "metadata": {},
   "outputs": [],
   "source": [
    "def convert_to_splicer_graph(route_graph):\n",
    "    \"\"\"\n",
    "    Convert a route graph to a splicer graph.\n",
    "    \n",
    "    Parameters:\n",
    "    -----------\n",
    "    route_graph : dict or object\n",
    "        The route graph to convert. Expected to have:\n",
    "        - nodes: dict with node_id as key and {'x': x_coord, 'y': y_coord} as value\n",
    "        - edges: list of tuples (from_node, to_node, weight)\n",
    "        \n",
    "    Returns:\n",
    "    --------\n",
    "    splicer.Graph\n",
    "        The converted splicer graph\n",
    "    \"\"\"\n",
    "    # Create a new splicer graph\n",
    "    graph = splicer.Graph()\n",
    "    \n",
    "    # Add nodes to the splicer graph\n",
    "    for node_id, coords in route_graph.nodes.items():\n",
    "        graph.add_node(node_id, coords['lat'], coords['lon'])\n",
    "    \n",
    "    # Add edges to the splicer graph\n",
    "    for from_node, to_node in route_graph.edges:\n",
    "        weight = route_graph.edges[from_node, to_node]['distance']\n",
    "        graph.add_edge(from_node, to_node, weight)\n",
    "    \n",
    "    return graph\n",
    "\n",
    "splicer_graph = convert_to_splicer_graph(route_graph)"
   ]
  },
  {
   "cell_type": "code",
   "execution_count": null,
   "metadata": {},
   "outputs": [],
   "source": [
    "# Run MCMC\n",
    "sampled_routes, final_route, total_accepted, acceptance_rate = splicer.start_mcmc(\n",
    "    splicer_graph, shortest_path, temperature=10, max_iter=30_000, burn_in=5_000, thinning=25, verbose=False\n",
    ")\n",
    "\n",
    "print(f\"Final route: {final_route}\")"
   ]
  },
  {
   "cell_type": "code",
   "execution_count": null,
   "metadata": {},
   "outputs": [],
   "source": []
  }
 ],
 "metadata": {
  "kernelspec": {
   "display_name": "Python 3",
   "language": "python",
   "name": "python3"
  },
  "language_info": {
   "codemirror_mode": {
    "name": "ipython",
    "version": 3
   },
   "file_extension": ".py",
   "mimetype": "text/x-python",
   "name": "python",
   "nbconvert_exporter": "python",
   "pygments_lexer": "ipython3",
   "version": "3.12.8"
  }
 },
 "nbformat": 4,
 "nbformat_minor": 2
}
