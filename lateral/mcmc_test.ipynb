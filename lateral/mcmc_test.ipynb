{
 "cells": [
  {
   "cell_type": "code",
   "execution_count": 1,
   "metadata": {},
   "outputs": [],
   "source": [
    "%load_ext autoreload\n",
    "%autoreload 2\n",
    "\n",
    "from dotenv import load_dotenv\n",
    "import os\n",
    "load_dotenv()\n",
    "PROJECT_ROOT = os.getenv('PROJECT_ROOT')\n",
    "\n",
    "# Add PROJECT_ROOT to the Python path\n",
    "import sys\n",
    "sys.path.append(PROJECT_ROOT)\n",
    "from planner2 import mcmc_step\n",
    "\n"
   ]
  },
  {
   "cell_type": "code",
   "execution_count": 2,
   "metadata": {},
   "outputs": [
    {
     "name": "stdout",
     "output_type": "stream",
     "text": [
      "Origin: EGLL - HEATHROW (51.4775, -0.461389, 09R)\n",
      "Destination: UKBB - BORYSPIL INTL (50.344722, 30.893333, 18R)\n"
     ]
    }
   ],
   "source": [
    "import pandas as pd\n",
    "\n",
    "ORIGIN_ICAO = 'EGLL'\n",
    "DEST_ICAO = 'UKBB'\n",
    "ORIGIN_RWY = '09R'\n",
    "DEST_RWY = '18R'\n",
    "\n",
    "airports_df = pd.read_csv(os.path.join(PROJECT_ROOT, \"data\", \"airac\", \"airports.csv\"))\n",
    "\n",
    "\n",
    "# Get the latitude and longitude of the origin and destination\n",
    "origin_lat = airports_df[airports_df['icao'] == ORIGIN_ICAO]['latitude'].values[0]\n",
    "origin_lon = airports_df[airports_df['icao'] == ORIGIN_ICAO]['longitude'].values[0]\n",
    "dest_lat = airports_df[airports_df['icao'] == DEST_ICAO]['latitude'].values[0]\n",
    "dest_lon = airports_df[airports_df['icao'] == DEST_ICAO]['longitude'].values[0]\n",
    "# Origin and destination airport names\n",
    "origin_name = airports_df[airports_df['icao'] == ORIGIN_ICAO]['name'].values[0]\n",
    "dest_name = airports_df[airports_df['icao'] == DEST_ICAO]['name'].values[0]\n",
    "\n",
    "print(f'Origin: {ORIGIN_ICAO} - {origin_name} ({origin_lat}, {origin_lon}, {ORIGIN_RWY})')\n",
    "print(f'Destination: {DEST_ICAO} - {dest_name} ({dest_lat}, {dest_lon}, {DEST_RWY})')"
   ]
  },
  {
   "cell_type": "code",
   "execution_count": 3,
   "metadata": {},
   "outputs": [
    {
     "name": "stdout",
     "output_type": "stream",
     "text": [
      "Subsetting the ATS graph to the great circle path between origin and destination...\n"
     ]
    },
    {
     "name": "stderr",
     "output_type": "stream",
     "text": [
      "Adding nodes to subset: 100%|██████████| 9558/9558 [00:00<00:00, 160108.78it/s]\n",
      "Adding edges to subset: 100%|██████████| 25011/25011 [00:00<00:00, 809579.85it/s]\n"
     ]
    },
    {
     "name": "stdout",
     "output_type": "stream",
     "text": [
      "ATS graph loaded. Nodes: 1670, edges: 3817\n",
      "Building FRA routing options...\n",
      "Found 1037 FRA points within 100nm of the great circle path between origin and destination.          \n",
      "Merging these into the ATS graph...\n",
      "223 FRA points renamed for BALTIC & FRAIT & SECSI & SEE FRA\n"
     ]
    },
    {
     "name": "stderr",
     "output_type": "stream",
     "text": [
      "BALTIC & FRAIT & SECSI & SEE FRA: 100%|██████████| 267/267 [00:00<00:00, 525.57it/s]\n"
     ]
    },
    {
     "name": "stdout",
     "output_type": "stream",
     "text": [
      "35 FRA points renamed for BELFRA\n"
     ]
    },
    {
     "name": "stderr",
     "output_type": "stream",
     "text": [
      "BELFRA: 100%|██████████| 39/39 [00:00<00:00, 4962.02it/s]\n"
     ]
    },
    {
     "name": "stdout",
     "output_type": "stream",
     "text": [
      "90 FRA points renamed for BOREALIS FRA\n"
     ]
    },
    {
     "name": "stderr",
     "output_type": "stream",
     "text": [
      "BOREALIS FRA: 100%|██████████| 202/202 [00:00<00:00, 1140.62it/s]\n"
     ]
    },
    {
     "name": "stdout",
     "output_type": "stream",
     "text": [
      "31 FRA points renamed for EDMM EAST\n"
     ]
    },
    {
     "name": "stderr",
     "output_type": "stream",
     "text": [
      "EDMM EAST: 100%|██████████| 35/35 [00:00<00:00, 6848.96it/s]\n"
     ]
    },
    {
     "name": "stdout",
     "output_type": "stream",
     "text": [
      "44 FRA points renamed for EDUU EAST\n"
     ]
    },
    {
     "name": "stderr",
     "output_type": "stream",
     "text": [
      "EDUU EAST: 100%|██████████| 49/49 [00:00<00:00, 6041.00it/s]\n"
     ]
    },
    {
     "name": "stdout",
     "output_type": "stream",
     "text": [
      "53 FRA points renamed for EDUU NORTH\n"
     ]
    },
    {
     "name": "stderr",
     "output_type": "stream",
     "text": [
      "EDUU NORTH: 100%|██████████| 72/72 [00:00<00:00, 4129.66it/s]\n"
     ]
    },
    {
     "name": "stdout",
     "output_type": "stream",
     "text": [
      "10 FRA points renamed for EDUU WEST\n"
     ]
    },
    {
     "name": "stderr",
     "output_type": "stream",
     "text": [
      "EDUU WEST: 100%|██████████| 16/16 [00:00<00:00, 14401.04it/s]\n"
     ]
    },
    {
     "name": "stdout",
     "output_type": "stream",
     "text": [
      "25 FRA points renamed for EDWW EAST\n"
     ]
    },
    {
     "name": "stderr",
     "output_type": "stream",
     "text": [
      "EDWW EAST: 100%|██████████| 30/30 [00:00<00:00, 9998.34it/s]\n"
     ]
    },
    {
     "name": "stdout",
     "output_type": "stream",
     "text": [
      "2 FRA points renamed for LFFRANW\n"
     ]
    },
    {
     "name": "stderr",
     "output_type": "stream",
     "text": [
      "LFFRANW: 100%|██████████| 8/8 [00:00<00:00, 7943.76it/s]\n"
     ]
    },
    {
     "name": "stdout",
     "output_type": "stream",
     "text": [
      "130 FRA points renamed for MUAC FRA\n"
     ]
    },
    {
     "name": "stderr",
     "output_type": "stream",
     "text": [
      "MUAC FRA: 100%|██████████| 186/186 [00:00<00:00, 830.53it/s]\n"
     ]
    },
    {
     "name": "stdout",
     "output_type": "stream",
     "text": [
      "127 FRA points renamed for UKNESFRA\n"
     ]
    },
    {
     "name": "stderr",
     "output_type": "stream",
     "text": [
      "UKNESFRA: 100%|██████████| 133/133 [00:00<00:00, 821.41it/s]\n"
     ]
    },
    {
     "name": "stdout",
     "output_type": "stream",
     "text": [
      "FRA graph merged into ATS graph. Nodes: 2667, edges: 121054\n",
      "Computing cost for the ATS-FRA route graph...\n"
     ]
    },
    {
     "name": "stderr",
     "output_type": "stream",
     "text": [
      "Adding nodes to subset: 100%|██████████| 2667/2667 [00:00<00:00, 295634.25it/s]\n",
      "Adding edges to subset: 100%|██████████| 121054/121054 [00:00<00:00, 312216.62it/s]\n"
     ]
    },
    {
     "name": "stdout",
     "output_type": "stream",
     "text": [
      "Adding SID and STAR graphs to the subset...\n",
      "Route graph subset created. Nodes: 2923, edges: 121334\n",
      "Great circle distance between origin and destination: 1179.84 nm\n"
     ]
    }
   ],
   "source": [
    "from nav_graph import generate_navigraph\n",
    "\n",
    "route_graph = generate_navigraph(ORIGIN_ICAO, DEST_ICAO, origin_lat, origin_lon, dest_lat, dest_lon,\n",
    "                                  ORIGIN_RWY, DEST_RWY,\n",
    "                                  w_dct=1.0, w_fra=1.0, w_proc=0.2)\n"
   ]
  },
  {
   "cell_type": "code",
   "execution_count": 4,
   "metadata": {},
   "outputs": [
    {
     "name": "stdout",
     "output_type": "stream",
     "text": [
      "Origin node EGLL_09R not found in graph. Available nodes for EGLL:\n",
      "  EGLL\n",
      "Using EGLL as origin node instead\n",
      "Destination node UKBB_18R not found in graph. Available nodes for UKBB:\n",
      "  UKBB\n",
      "Using UKBB as destination node instead\n",
      "Shortest path found with 26 waypoints\n",
      "EGLL CPT5J WOD BPK Q295 BRAIN M197 REDFA DERAM L980 POLON M70 OKROT SLV SLV2J UKBB\n"
     ]
    }
   ],
   "source": [
    "import networkx as nx\n",
    "from utils.flightplans import format_flightplan, get_detailed_flightplan_from_waypoint_list\n",
    "from utils.haversine import haversine_distance\n",
    "\n",
    "# Find the shortest path between origin and destination\n",
    "origin_node = f\"{ORIGIN_ICAO}_{ORIGIN_RWY}\"\n",
    "dest_node = f\"{DEST_ICAO}_{DEST_RWY}\"\n",
    "\n",
    "# Check if the nodes exist in the graph\n",
    "if origin_node not in route_graph.nodes:\n",
    "    print(f\"Origin node {origin_node} not found in graph. Available nodes for {ORIGIN_ICAO}:\")\n",
    "    for node in route_graph.nodes:\n",
    "        if node.startswith(ORIGIN_ICAO):\n",
    "            print(f\"  {node}\")\n",
    "    # Try to find an alternative\n",
    "    for node in route_graph.nodes:\n",
    "        if node.startswith(ORIGIN_ICAO):\n",
    "            origin_node = node\n",
    "            print(f\"Using {origin_node} as origin node instead\")\n",
    "            break\n",
    "\n",
    "if dest_node not in route_graph.nodes:\n",
    "    print(f\"Destination node {dest_node} not found in graph. Available nodes for {DEST_ICAO}:\")\n",
    "    for node in route_graph.nodes:\n",
    "        if node.startswith(DEST_ICAO):\n",
    "            print(f\"  {node}\")\n",
    "    # Try to find an alternative\n",
    "    for node in route_graph.nodes:\n",
    "        if node.startswith(DEST_ICAO):\n",
    "            dest_node = node\n",
    "            print(f\"Using {dest_node} as destination node instead\")\n",
    "            break\n",
    "\n",
    "# Find the shortest path\n",
    "try:\n",
    "    shortest_path = nx.shortest_path(route_graph, source=origin_node, target=dest_node, weight='cost')\n",
    "    print(f\"Shortest path found with {len(shortest_path)} waypoints\")\n",
    "    \n",
    "    \n",
    "    result = get_detailed_flightplan_from_waypoint_list(route_graph, shortest_path)\n",
    "\n",
    "    # Print the flight plan\n",
    "    print(format_flightplan(result))\n",
    "\n",
    "except nx.NetworkXNoPath:\n",
    "    print(f\"No path found between {origin_node} and {dest_node}\")\n",
    "except Exception as e:\n",
    "    print(f\"Error finding path: {e}\")"
   ]
  },
  {
   "cell_type": "markdown",
   "metadata": {},
   "source": [
    "# MCMC Sampling with Metropolis-Hastings"
   ]
  },
  {
   "cell_type": "code",
   "execution_count": 22,
   "metadata": {},
   "outputs": [
    {
     "name": "stdout",
     "output_type": "stream",
     "text": [
      "Time taken to sample a and c: 0.40798187255859375\n",
      "Time taken to find the pivot node: 18.777167558670044\n",
      "Time taken to sample the pivot node: 0.0012013912200927734\n",
      "Time taken to propose the new route: 0.0005903244018554688\n",
      "Time taken to evaluate the cost of the new route: 0.0\n",
      "Time taken to compute the acceptance probability: 0.0\n",
      "Rejected route in iteration 0\n",
      "Time taken to sample a and c: 0.4144771099090576\n",
      "Time taken to find the pivot node: 30.5644850730896\n",
      "Time taken to sample the pivot node: 0.0\n",
      "Time taken to propose the new route: 0.0009989738464355469\n",
      "Time taken to evaluate the cost of the new route: 0.0\n",
      "Time taken to compute the acceptance probability: 0.0\n",
      "Accepted route in iteration 1\n",
      "Time taken to sample a and c: 0.4142141342163086\n",
      "Time taken to find the pivot node: 28.16599130630493\n",
      "Time taken to sample the pivot node: 0.0010001659393310547\n",
      "Time taken to propose the new route: 0.0011599063873291016\n",
      "Time taken to evaluate the cost of the new route: 0.0\n",
      "Time taken to compute the acceptance probability: 0.0\n",
      "Rejected route in iteration 2\n",
      "Time taken to sample a and c: 0.404710054397583\n",
      "Time taken to find the pivot node: 28.030015230178833\n",
      "Time taken to sample the pivot node: 0.0\n",
      "Time taken to propose the new route: 0.0010001659393310547\n",
      "Time taken to evaluate the cost of the new route: 0.0\n",
      "Time taken to compute the acceptance probability: 0.0\n",
      "Rejected route in iteration 3\n",
      "Time taken to sample a and c: 0.4074878692626953\n",
      "Time taken to find the pivot node: 28.04650616645813\n",
      "Time taken to sample the pivot node: 0.0010020732879638672\n",
      "Time taken to propose the new route: 0.0\n",
      "Time taken to evaluate the cost of the new route: 0.0009903907775878906\n",
      "Time taken to compute the acceptance probability: 0.0\n",
      "Rejected route in iteration 4\n",
      "Time taken to sample a and c: 0.4134063720703125\n",
      "Time taken to find the pivot node: 28.48197078704834\n",
      "Time taken to sample the pivot node: 0.0\n",
      "Time taken to propose the new route: 0.0009758472442626953\n",
      "Time taken to evaluate the cost of the new route: 0.0006258487701416016\n",
      "Time taken to compute the acceptance probability: 0.0\n",
      "Rejected route in iteration 5\n",
      "Time taken to sample a and c: 0.40950846672058105\n",
      "Time taken to find the pivot node: 15.77395224571228\n",
      "Time taken to sample the pivot node: 0.0\n",
      "Time taken to propose the new route: 0.0\n",
      "Time taken to evaluate the cost of the new route: 0.0009181499481201172\n"
     ]
    },
    {
     "ename": "TypeError",
     "evalue": "unsupported operand type(s) for /: 'NoneType' and 'float'",
     "output_type": "error",
     "traceback": [
      "\u001b[1;31m---------------------------------------------------------------------------\u001b[0m",
      "\u001b[1;31mTypeError\u001b[0m                                 Traceback (most recent call last)",
      "Cell \u001b[1;32mIn[22], line 10\u001b[0m\n\u001b[0;32m      7\u001b[0m route \u001b[38;5;241m=\u001b[39m shortest_path\n\u001b[0;32m      9\u001b[0m \u001b[38;5;28;01mfor\u001b[39;00m i \u001b[38;5;129;01min\u001b[39;00m \u001b[38;5;28mrange\u001b[39m(MAX_ITER):\n\u001b[1;32m---> 10\u001b[0m     route, accepted \u001b[38;5;241m=\u001b[39m \u001b[43mmcmc_step\u001b[49m\u001b[43m(\u001b[49m\u001b[43mroute_graph\u001b[49m\u001b[43m,\u001b[49m\u001b[43m \u001b[49m\u001b[43mroute\u001b[49m\u001b[43m,\u001b[49m\u001b[43m \u001b[49m\u001b[43mtemperature\u001b[49m\u001b[43m)\u001b[49m\n\u001b[0;32m     11\u001b[0m     \u001b[38;5;28;01mif\u001b[39;00m i \u001b[38;5;241m>\u001b[39m BURN_IN \u001b[38;5;129;01mand\u001b[39;00m i \u001b[38;5;241m%\u001b[39m THINNING \u001b[38;5;241m==\u001b[39m \u001b[38;5;241m0\u001b[39m:\n\u001b[0;32m     12\u001b[0m         sampled_routes\u001b[38;5;241m.\u001b[39mappend(route)\n",
      "File \u001b[1;32md:\\project-akrav\\lateral\\planner2.py:557\u001b[0m, in \u001b[0;36mmcmc_step\u001b[1;34m(route_graph, route, temperature)\u001b[0m\n\u001b[0;32m    553\u001b[0m start_time \u001b[38;5;241m=\u001b[39m time\u001b[38;5;241m.\u001b[39mtime()\n\u001b[0;32m    554\u001b[0m \u001b[38;5;66;03m# ================================\u001b[39;00m\n\u001b[0;32m    555\u001b[0m \u001b[38;5;66;03m# ACCEPTANCE/REJECTION\u001b[39;00m\n\u001b[0;32m    556\u001b[0m \u001b[38;5;66;03m# ================================\u001b[39;00m\n\u001b[1;32m--> 557\u001b[0m acceptance_prob \u001b[38;5;241m=\u001b[39m \u001b[43mmh_acceptance\u001b[49m\u001b[43m(\u001b[49m\u001b[43mcost_new\u001b[49m\u001b[43m,\u001b[49m\u001b[43m \u001b[49m\u001b[43mcost_old\u001b[49m\u001b[43m,\u001b[49m\u001b[43m \u001b[49m\u001b[43mprob_sampled_V\u001b[49m\u001b[43m,\u001b[49m\u001b[43m \u001b[49m\u001b[43mold_pivot_prob\u001b[49m\u001b[43m)\u001b[49m\n\u001b[0;32m    559\u001b[0m \u001b[38;5;28mprint\u001b[39m(\u001b[38;5;124mf\u001b[39m\u001b[38;5;124m'\u001b[39m\u001b[38;5;124mTime taken to compute the acceptance probability: \u001b[39m\u001b[38;5;132;01m{\u001b[39;00mtime\u001b[38;5;241m.\u001b[39mtime()\u001b[38;5;250m \u001b[39m\u001b[38;5;241m-\u001b[39m\u001b[38;5;250m \u001b[39mstart_time\u001b[38;5;132;01m}\u001b[39;00m\u001b[38;5;124m'\u001b[39m)\n\u001b[0;32m    560\u001b[0m \u001b[38;5;66;03m# ================================\u001b[39;00m\n\u001b[0;32m    561\u001b[0m \u001b[38;5;66;03m# ACCEPTANCE/REJECTION\u001b[39;00m\n\u001b[0;32m    562\u001b[0m \u001b[38;5;66;03m# ================================\u001b[39;00m\n\u001b[0;32m    563\u001b[0m \u001b[38;5;66;03m# Accept the new route with probability acceptance_prob\u001b[39;00m\n",
      "File \u001b[1;32md:\\project-akrav\\lateral\\planner2.py:364\u001b[0m, in \u001b[0;36mmh_acceptance\u001b[1;34m(cost_new, cost_old, p_forward, p_backward)\u001b[0m\n\u001b[0;32m    361\u001b[0m cost_diff \u001b[38;5;241m=\u001b[39m \u001b[38;5;241m-\u001b[39m(cost_new \u001b[38;5;241m-\u001b[39m cost_old)\n\u001b[0;32m    363\u001b[0m \u001b[38;5;66;03m# Calculate the proposal probability ratio\u001b[39;00m\n\u001b[1;32m--> 364\u001b[0m prob_ratio \u001b[38;5;241m=\u001b[39m \u001b[43mp_backward\u001b[49m\u001b[43m \u001b[49m\u001b[38;5;241;43m/\u001b[39;49m\u001b[43m \u001b[49m\u001b[43mp_forward\u001b[49m\n\u001b[0;32m    366\u001b[0m \u001b[38;5;66;03m# Calculate the acceptance rate using the Metropolis-Hastings formula\u001b[39;00m\n\u001b[0;32m    367\u001b[0m alpha \u001b[38;5;241m=\u001b[39m \u001b[38;5;28mmin\u001b[39m(\u001b[38;5;241m1\u001b[39m, math\u001b[38;5;241m.\u001b[39mexp(cost_diff) \u001b[38;5;241m*\u001b[39m prob_ratio)\n",
      "\u001b[1;31mTypeError\u001b[0m: unsupported operand type(s) for /: 'NoneType' and 'float'"
     ]
    }
   ],
   "source": [
    "MAX_ITER = 100_000\n",
    "BURN_IN = 5_000 # can go as high as 10_000\n",
    "THINNING = 25 # can go as high as 50 \n",
    "sampled_routes = []\n",
    "temperature = 1000\n",
    "\n",
    "route = shortest_path\n",
    "\n",
    "for i in range(MAX_ITER):\n",
    "    route, accepted = mcmc_step(route_graph, route, temperature)\n",
    "    if i > BURN_IN and i % THINNING == 0:\n",
    "        sampled_routes.append(route)\n",
    "    print(f\"{'Accepted' if accepted else 'Rejected'} route in iteration {i}\")\n",
    "\n"
   ]
  },
  {
   "cell_type": "code",
   "execution_count": null,
   "metadata": {},
   "outputs": [],
   "source": []
  }
 ],
 "metadata": {
  "kernelspec": {
   "display_name": "Python 3",
   "language": "python",
   "name": "python3"
  },
  "language_info": {
   "codemirror_mode": {
    "name": "ipython",
    "version": 3
   },
   "file_extension": ".py",
   "mimetype": "text/x-python",
   "name": "python",
   "nbconvert_exporter": "python",
   "pygments_lexer": "ipython3",
   "version": "3.12.3"
  }
 },
 "nbformat": 4,
 "nbformat_minor": 2
}
