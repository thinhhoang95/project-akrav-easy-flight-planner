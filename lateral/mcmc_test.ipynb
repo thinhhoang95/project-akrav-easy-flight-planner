{
 "cells": [
  {
   "cell_type": "code",
   "execution_count": 2,
   "metadata": {},
   "outputs": [],
   "source": [
    "%load_ext autoreload\n",
    "%autoreload 2\n",
    "\n",
    "from dotenv import load_dotenv\n",
    "import os\n",
    "load_dotenv()\n",
    "PROJECT_ROOT = os.getenv('PROJECT_ROOT')\n",
    "\n",
    "# Add PROJECT_ROOT to the Python path\n",
    "import sys\n",
    "sys.path.append(PROJECT_ROOT)\n",
    "\n"
   ]
  },
  {
   "cell_type": "code",
   "execution_count": 3,
   "metadata": {},
   "outputs": [
    {
     "name": "stdout",
     "output_type": "stream",
     "text": [
      "Origin: EGLL - HEATHROW (51.4775, -0.461389, 09R)\n",
      "Destination: UKBB - BORYSPIL INTL (50.344722, 30.893333, 18R)\n"
     ]
    }
   ],
   "source": [
    "import pandas as pd\n",
    "\n",
    "ORIGIN_ICAO = 'EGLL'\n",
    "DEST_ICAO = 'UKBB'\n",
    "ORIGIN_RWY = '09R'\n",
    "DEST_RWY = '18R'\n",
    "\n",
    "airports_df = pd.read_csv(os.path.join(PROJECT_ROOT, \"data\", \"airac\", \"airports.csv\"))\n",
    "\n",
    "\n",
    "# Get the latitude and longitude of the origin and destination\n",
    "origin_lat = airports_df[airports_df['icao'] == ORIGIN_ICAO]['latitude'].values[0]\n",
    "origin_lon = airports_df[airports_df['icao'] == ORIGIN_ICAO]['longitude'].values[0]\n",
    "dest_lat = airports_df[airports_df['icao'] == DEST_ICAO]['latitude'].values[0]\n",
    "dest_lon = airports_df[airports_df['icao'] == DEST_ICAO]['longitude'].values[0]\n",
    "# Origin and destination airport names\n",
    "origin_name = airports_df[airports_df['icao'] == ORIGIN_ICAO]['name'].values[0]\n",
    "dest_name = airports_df[airports_df['icao'] == DEST_ICAO]['name'].values[0]\n",
    "\n",
    "print(f'Origin: {ORIGIN_ICAO} - {origin_name} ({origin_lat}, {origin_lon}, {ORIGIN_RWY})')\n",
    "print(f'Destination: {DEST_ICAO} - {dest_name} ({dest_lat}, {dest_lon}, {DEST_RWY})')"
   ]
  },
  {
   "cell_type": "code",
   "execution_count": 4,
   "metadata": {},
   "outputs": [
    {
     "name": "stdout",
     "output_type": "stream",
     "text": [
      "Subsetting the ATS graph to the great circle path between origin and destination...\n"
     ]
    },
    {
     "name": "stderr",
     "output_type": "stream",
     "text": [
      "Adding nodes to subset: 100%|██████████| 9558/9558 [00:00<00:00, 406513.66it/s]\n",
      "Adding edges to subset: 100%|██████████| 25011/25011 [00:00<00:00, 1599800.79it/s]\n"
     ]
    },
    {
     "name": "stdout",
     "output_type": "stream",
     "text": [
      "ATS graph loaded. Nodes: 1670, edges: 3817\n",
      "Building FRA routing options...\n",
      "Found 1037 FRA points within 100nm of the great circle path between origin and destination.          \n",
      "Merging these into the ATS graph...\n",
      "223 FRA points renamed for BALTIC & FRAIT & SECSI & SEE FRA\n"
     ]
    },
    {
     "name": "stderr",
     "output_type": "stream",
     "text": [
      "BALTIC & FRAIT & SECSI & SEE FRA: 100%|██████████| 267/267 [00:00<00:00, 1320.21it/s]\n"
     ]
    },
    {
     "name": "stdout",
     "output_type": "stream",
     "text": [
      "35 FRA points renamed for BELFRA\n"
     ]
    },
    {
     "name": "stderr",
     "output_type": "stream",
     "text": [
      "BELFRA: 100%|██████████| 39/39 [00:00<00:00, 13117.71it/s]\n"
     ]
    },
    {
     "name": "stdout",
     "output_type": "stream",
     "text": [
      "90 FRA points renamed for BOREALIS FRA\n"
     ]
    },
    {
     "name": "stderr",
     "output_type": "stream",
     "text": [
      "BOREALIS FRA: 100%|██████████| 202/202 [00:00<00:00, 2887.73it/s]\n"
     ]
    },
    {
     "name": "stdout",
     "output_type": "stream",
     "text": [
      "31 FRA points renamed for EDMM EAST\n"
     ]
    },
    {
     "name": "stderr",
     "output_type": "stream",
     "text": [
      "EDMM EAST: 100%|██████████| 35/35 [00:00<00:00, 17376.97it/s]\n"
     ]
    },
    {
     "name": "stdout",
     "output_type": "stream",
     "text": [
      "44 FRA points renamed for EDUU EAST\n"
     ]
    },
    {
     "name": "stderr",
     "output_type": "stream",
     "text": [
      "EDUU EAST: 100%|██████████| 49/49 [00:00<00:00, 16943.19it/s]\n"
     ]
    },
    {
     "name": "stdout",
     "output_type": "stream",
     "text": [
      "53 FRA points renamed for EDUU NORTH\n"
     ]
    },
    {
     "name": "stderr",
     "output_type": "stream",
     "text": [
      "EDUU NORTH: 100%|██████████| 72/72 [00:00<00:00, 10051.59it/s]\n"
     ]
    },
    {
     "name": "stdout",
     "output_type": "stream",
     "text": [
      "10 FRA points renamed for EDUU WEST\n"
     ]
    },
    {
     "name": "stderr",
     "output_type": "stream",
     "text": [
      "EDUU WEST: 100%|██████████| 16/16 [00:00<00:00, 43690.67it/s]\n"
     ]
    },
    {
     "name": "stdout",
     "output_type": "stream",
     "text": [
      "25 FRA points renamed for EDWW EAST\n"
     ]
    },
    {
     "name": "stderr",
     "output_type": "stream",
     "text": [
      "EDWW EAST: 100%|██████████| 30/30 [00:00<00:00, 25191.02it/s]\n"
     ]
    },
    {
     "name": "stdout",
     "output_type": "stream",
     "text": [
      "2 FRA points renamed for LFFRANW\n"
     ]
    },
    {
     "name": "stderr",
     "output_type": "stream",
     "text": [
      "LFFRANW: 100%|██████████| 8/8 [00:00<00:00, 66576.25it/s]\n"
     ]
    },
    {
     "name": "stdout",
     "output_type": "stream",
     "text": [
      "130 FRA points renamed for MUAC FRA\n"
     ]
    },
    {
     "name": "stderr",
     "output_type": "stream",
     "text": [
      "MUAC FRA: 100%|██████████| 186/186 [00:00<00:00, 2021.77it/s]\n"
     ]
    },
    {
     "name": "stdout",
     "output_type": "stream",
     "text": [
      "127 FRA points renamed for UKNESFRA\n"
     ]
    },
    {
     "name": "stderr",
     "output_type": "stream",
     "text": [
      "UKNESFRA: 100%|██████████| 133/133 [00:00<00:00, 2013.57it/s]\n"
     ]
    },
    {
     "name": "stdout",
     "output_type": "stream",
     "text": [
      "FRA graph merged into ATS graph. Nodes: 2666, edges: 121054\n",
      "Computing cost for the ATS-FRA route graph...\n"
     ]
    },
    {
     "name": "stderr",
     "output_type": "stream",
     "text": [
      "Adding nodes to subset: 100%|██████████| 2666/2666 [00:00<00:00, 768101.01it/s]\n",
      "Adding edges to subset: 100%|██████████| 121054/121054 [00:00<00:00, 754302.01it/s]\n"
     ]
    },
    {
     "name": "stdout",
     "output_type": "stream",
     "text": [
      "Adding SID and STAR graphs to the subset...\n",
      "Route graph subset created. Nodes: 2922, edges: 121334\n",
      "Great circle distance between origin and destination: 1179.84 nm\n"
     ]
    },
    {
     "name": "stderr",
     "output_type": "stream",
     "text": [
      "Processing predecessors list: 100%|██████████| 2922/2922 [00:00<00:00, 373457.55it/s]\n"
     ]
    }
   ],
   "source": [
    "from nav_graph import generate_navigraph, add_predecessor_access_for_graph\n",
    "\n",
    "route_graph = generate_navigraph(ORIGIN_ICAO, DEST_ICAO, origin_lat, origin_lon, dest_lat, dest_lon,\n",
    "                                  ORIGIN_RWY, DEST_RWY,\n",
    "                                  w_dct=1.0, w_fra=1.0, w_proc=0.2)\n",
    "add_predecessor_access_for_graph(route_graph)"
   ]
  },
  {
   "cell_type": "code",
   "execution_count": 5,
   "metadata": {},
   "outputs": [
    {
     "name": "stdout",
     "output_type": "stream",
     "text": [
      "Origin node EGLL_09R not found in graph. Available nodes for EGLL:\n",
      "  EGLL\n",
      "Using EGLL as origin node instead\n",
      "Destination node UKBB_18R not found in graph. Available nodes for UKBB:\n",
      "  UKBB\n",
      "Using UKBB as destination node instead\n",
      "Shortest path found with 26 waypoints\n",
      "EGLL CPT5J WOD BPK Q295 BRAIN M197 REDFA DERAM L980 POLON M70 OKROT SLV SLV2J UKBB\n"
     ]
    }
   ],
   "source": [
    "import networkx as nx\n",
    "from utils.flightplans import format_flightplan, get_detailed_flightplan_from_waypoint_list\n",
    "from utils.haversine import haversine_distance\n",
    "\n",
    "# Find the shortest path between origin and destination\n",
    "origin_node = f\"{ORIGIN_ICAO}_{ORIGIN_RWY}\"\n",
    "dest_node = f\"{DEST_ICAO}_{DEST_RWY}\"\n",
    "\n",
    "# Check if the nodes exist in the graph\n",
    "if origin_node not in route_graph.nodes:\n",
    "    print(f\"Origin node {origin_node} not found in graph. Available nodes for {ORIGIN_ICAO}:\")\n",
    "    for node in route_graph.nodes:\n",
    "        if node.startswith(ORIGIN_ICAO):\n",
    "            print(f\"  {node}\")\n",
    "    # Try to find an alternative\n",
    "    for node in route_graph.nodes:\n",
    "        if node.startswith(ORIGIN_ICAO):\n",
    "            origin_node = node\n",
    "            print(f\"Using {origin_node} as origin node instead\")\n",
    "            break\n",
    "\n",
    "if dest_node not in route_graph.nodes:\n",
    "    print(f\"Destination node {dest_node} not found in graph. Available nodes for {DEST_ICAO}:\")\n",
    "    for node in route_graph.nodes:\n",
    "        if node.startswith(DEST_ICAO):\n",
    "            print(f\"  {node}\")\n",
    "    # Try to find an alternative\n",
    "    for node in route_graph.nodes:\n",
    "        if node.startswith(DEST_ICAO):\n",
    "            dest_node = node\n",
    "            print(f\"Using {dest_node} as destination node instead\")\n",
    "            break\n",
    "\n",
    "# Find the shortest path\n",
    "try:\n",
    "    shortest_path = nx.shortest_path(route_graph, source=origin_node, target=dest_node, weight='cost')\n",
    "    print(f\"Shortest path found with {len(shortest_path)} waypoints\")\n",
    "    \n",
    "    \n",
    "    result = get_detailed_flightplan_from_waypoint_list(route_graph, shortest_path)\n",
    "\n",
    "    # Print the flight plan\n",
    "    print(format_flightplan(result))\n",
    "\n",
    "except nx.NetworkXNoPath:\n",
    "    print(f\"No path found between {origin_node} and {dest_node}\")\n",
    "except Exception as e:\n",
    "    print(f\"Error finding path: {e}\")"
   ]
  },
  {
   "cell_type": "code",
   "execution_count": 6,
   "metadata": {},
   "outputs": [
    {
     "name": "stdout",
     "output_type": "stream",
     "text": [
      "EGLL CPT5J_D130B CPT5J_D253K CPT5J_WOD WOD BPK TOTRI MATCH BRAIN GASBA RATLO REDFA ISMEF HLZ ARSAP DERAM POLON SOMOX TOLPA OKROT SLV SLV2J_SLV SLV2J_SL32B SLV2J_SLV50 SLV2J_D266B UKBB\n"
     ]
    }
   ],
   "source": [
    "print(\" \".join(shortest_path))"
   ]
  },
  {
   "cell_type": "markdown",
   "metadata": {},
   "source": [
    "# MCMC Sampling with Metropolis-Hastings"
   ]
  },
  {
   "cell_type": "code",
   "execution_count": 62,
   "metadata": {},
   "outputs": [
    {
     "name": "stdout",
     "output_type": "stream",
     "text": [
      "Time taken to find the minimum description route: 0.0\n",
      "a = 15, c = 18. Modify: HLZ ARSAP [DERAM POLON SOMOX] TOLPA OKROT\n",
      "Time taken to sample a and c: 0.00014734268188476562\n",
      "Time taken to find forward admissible nodes: 0.05022883415222168\n",
      "Time taken to find backward admissible nodes: 0.0798189640045166\n",
      "Found 1430 admissible pivot nodes\n",
      "Found 1352 collapsed pivot nodes\n",
      "Pivot probabilities:\n",
      "  POLON: prob=0.0157, dist=336.24\n",
      "  INDIG: prob=0.0156, dist=336.28\n",
      "  SOMOX: prob=0.0156, dist=336.31\n",
      "  DERAM: prob=0.0156, dist=336.31\n",
      "  VAMPU: prob=0.0156, dist=336.31\n",
      "  UTOLU: prob=0.0155, dist=336.31\n",
      "  DILVI: prob=0.0155, dist=336.31\n",
      "  TIMSO: prob=0.0155, dist=336.32\n",
      "  MASIV: prob=0.0155, dist=336.33\n",
      "  BADUP: prob=0.0155, dist=336.35\n",
      "Sampled: KELOD with prob 0.0150 and total dist 336.65\n",
      "Time taken to sample the pivot node: 0.00039505958557128906\n",
      "Time taken to propose the new route: 5.602836608886719e-05\n",
      "New route: HLZ ARSAP [KELOD SOMOX] TOLPA OKROT\n",
      "Full new route: EGLL CPT5J_D130B CPT5J_D253K CPT5J_WOD WOD BPK TOTRI MATCH BRAIN GASBA RATLO REDFA ISMEF HLZ ARSAP KELOD SOMOX TOLPA OKROT SLV SLV2J_SLV SLV2J_SL32B SLV2J_SLV50 SLV2J_D266B UKBB\n",
      "Total distance: 336.65\n",
      "Cost of the new route: 1235.1610457464549\n",
      "Cost of the old route: 1234.751476976051\n",
      "Time taken to evaluate the cost of the new route: 3.409385681152344e-05\n",
      "Time taken to compute the acceptance probability: 3.814697265625e-06\n"
     ]
    }
   ],
   "source": [
    "from planner_pivot import mcmc_step\n",
    "MAX_ITER = 10\n",
    "BURN_IN = 5_000 # can go as high as 10_000\n",
    "THINNING = 25 # can go as high as 50 \n",
    "sampled_routes = []\n",
    "temperature = 10\n",
    "\n",
    "total_accepted = 0\n",
    "\n",
    "route = shortest_path\n",
    "for i in range(MAX_ITER):\n",
    "    new_route, accepted = mcmc_step(route_graph, route, temperature, verbose = True,\n",
    "                                    max_depth=8)\n",
    "    break\n",
    "    if accepted:\n",
    "        route = new_route\n",
    "        sampled_routes.append(route)\n",
    "        total_accepted += 1\n",
    "    print(f'Iteration {i+1}, accepted: {total_accepted}               ', end='\\r')\n",
    "\n"
   ]
  },
  {
   "cell_type": "code",
   "execution_count": null,
   "metadata": {},
   "outputs": [],
   "source": []
  },
  {
   "cell_type": "code",
   "execution_count": null,
   "metadata": {},
   "outputs": [],
   "source": []
  }
 ],
 "metadata": {
  "kernelspec": {
   "display_name": "Python 3",
   "language": "python",
   "name": "python3"
  },
  "language_info": {
   "codemirror_mode": {
    "name": "ipython",
    "version": 3
   },
   "file_extension": ".py",
   "mimetype": "text/x-python",
   "name": "python",
   "nbconvert_exporter": "python",
   "pygments_lexer": "ipython3",
   "version": "3.12.8"
  }
 },
 "nbformat": 4,
 "nbformat_minor": 2
}
