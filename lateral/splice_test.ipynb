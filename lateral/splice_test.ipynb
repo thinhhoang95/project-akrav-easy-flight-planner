{
 "cells": [
  {
   "cell_type": "code",
   "execution_count": 1,
   "metadata": {},
   "outputs": [],
   "source": [
    "%load_ext autoreload\n",
    "%autoreload 2"
   ]
  },
  {
   "cell_type": "code",
   "execution_count": 2,
   "metadata": {},
   "outputs": [],
   "source": [
    "from dotenv import load_dotenv\n",
    "import os\n",
    "load_dotenv()\n",
    "PROJECT_ROOT = os.getenv('PROJECT_ROOT')\n",
    "\n",
    "# Add PROJECT_ROOT to the Python path\n",
    "import sys\n",
    "sys.path.append(PROJECT_ROOT)"
   ]
  },
  {
   "cell_type": "markdown",
   "metadata": {},
   "source": [
    "Declaring departure and arrival airports"
   ]
  },
  {
   "cell_type": "code",
   "execution_count": 3,
   "metadata": {},
   "outputs": [
    {
     "name": "stdout",
     "output_type": "stream",
     "text": [
      "Origin: EGLL - HEATHROW (51.4775, -0.461389, 09R)\n",
      "Destination: UKBB - BORYSPIL INTL (50.344722, 30.893333, 18R)\n"
     ]
    }
   ],
   "source": [
    "import pandas as pd\n",
    "\n",
    "ORIGIN_ICAO = 'EGLL'\n",
    "DEST_ICAO = 'UKBB'\n",
    "ORIGIN_RWY = '09R'\n",
    "DEST_RWY = '18R'\n",
    "\n",
    "airports_df = pd.read_csv(os.path.join(PROJECT_ROOT, \"data\", \"airac\", \"airports.csv\"))\n",
    "\n",
    "\n",
    "# Get the latitude and longitude of the origin and destination\n",
    "origin_lat = airports_df[airports_df['icao'] == ORIGIN_ICAO]['latitude'].values[0]\n",
    "origin_lon = airports_df[airports_df['icao'] == ORIGIN_ICAO]['longitude'].values[0]\n",
    "dest_lat = airports_df[airports_df['icao'] == DEST_ICAO]['latitude'].values[0]\n",
    "dest_lon = airports_df[airports_df['icao'] == DEST_ICAO]['longitude'].values[0]\n",
    "# Origin and destination airport names\n",
    "origin_name = airports_df[airports_df['icao'] == ORIGIN_ICAO]['name'].values[0]\n",
    "dest_name = airports_df[airports_df['icao'] == DEST_ICAO]['name'].values[0]\n",
    "\n",
    "print(f'Origin: {ORIGIN_ICAO} - {origin_name} ({origin_lat}, {origin_lon}, {ORIGIN_RWY})')\n",
    "print(f'Destination: {DEST_ICAO} - {dest_name} ({dest_lat}, {dest_lon}, {DEST_RWY})')"
   ]
  },
  {
   "cell_type": "markdown",
   "metadata": {},
   "source": [
    "Building the navigation graph"
   ]
  },
  {
   "cell_type": "code",
   "execution_count": 4,
   "metadata": {},
   "outputs": [
    {
     "name": "stdout",
     "output_type": "stream",
     "text": [
      "Subsetting the ATS graph to the great circle path between origin and destination...\n"
     ]
    },
    {
     "name": "stderr",
     "output_type": "stream",
     "text": [
      "Adding nodes to subset: 100%|██████████| 9558/9558 [00:00<00:00, 160463.82it/s]\n",
      "Adding edges to subset: 100%|██████████| 25011/25011 [00:00<00:00, 837320.81it/s]\n"
     ]
    },
    {
     "name": "stdout",
     "output_type": "stream",
     "text": [
      "ATS graph loaded. Nodes: 1670, edges: 3817\n",
      "Building FRA routing options...\n",
      "Found 1037 FRA points within 100nm of the great circle path between origin and destination.          \n",
      "Merging these into the ATS graph...\n",
      "223 FRA points renamed for BALTIC & FRAIT & SECSI & SEE FRA\n"
     ]
    },
    {
     "name": "stderr",
     "output_type": "stream",
     "text": [
      "BALTIC & FRAIT & SECSI & SEE FRA: 100%|██████████| 267/267 [00:00<00:00, 522.49it/s]\n"
     ]
    },
    {
     "name": "stdout",
     "output_type": "stream",
     "text": [
      "35 FRA points renamed for BELFRA\n"
     ]
    },
    {
     "name": "stderr",
     "output_type": "stream",
     "text": [
      "BELFRA: 100%|██████████| 39/39 [00:00<00:00, 5559.52it/s]\n"
     ]
    },
    {
     "name": "stdout",
     "output_type": "stream",
     "text": [
      "90 FRA points renamed for BOREALIS FRA\n"
     ]
    },
    {
     "name": "stderr",
     "output_type": "stream",
     "text": [
      "BOREALIS FRA: 100%|██████████| 202/202 [00:00<00:00, 1138.38it/s]\n"
     ]
    },
    {
     "name": "stdout",
     "output_type": "stream",
     "text": [
      "31 FRA points renamed for EDMM EAST\n"
     ]
    },
    {
     "name": "stderr",
     "output_type": "stream",
     "text": [
      "EDMM EAST: 100%|██████████| 35/35 [00:00<00:00, 6981.20it/s]\n"
     ]
    },
    {
     "name": "stdout",
     "output_type": "stream",
     "text": [
      "44 FRA points renamed for EDUU EAST\n"
     ]
    },
    {
     "name": "stderr",
     "output_type": "stream",
     "text": [
      "EDUU EAST: 100%|██████████| 49/49 [00:00<00:00, 6978.40it/s]\n"
     ]
    },
    {
     "name": "stdout",
     "output_type": "stream",
     "text": [
      "53 FRA points renamed for EDUU NORTH\n"
     ]
    },
    {
     "name": "stderr",
     "output_type": "stream",
     "text": [
      "EDUU NORTH: 100%|██████████| 72/72 [00:00<00:00, 3812.43it/s]\n"
     ]
    },
    {
     "name": "stdout",
     "output_type": "stream",
     "text": [
      "10 FRA points renamed for EDUU WEST\n"
     ]
    },
    {
     "name": "stderr",
     "output_type": "stream",
     "text": [
      "EDUU WEST: 100%|██████████| 16/16 [00:00<?, ?it/s]\n"
     ]
    },
    {
     "name": "stdout",
     "output_type": "stream",
     "text": [
      "25 FRA points renamed for EDWW EAST\n"
     ]
    },
    {
     "name": "stderr",
     "output_type": "stream",
     "text": [
      "EDWW EAST: 100%|██████████| 30/30 [00:00<00:00, 9977.73it/s]\n"
     ]
    },
    {
     "name": "stdout",
     "output_type": "stream",
     "text": [
      "2 FRA points renamed for LFFRANW\n"
     ]
    },
    {
     "name": "stderr",
     "output_type": "stream",
     "text": [
      "LFFRANW: 100%|██████████| 8/8 [00:00<?, ?it/s]\n"
     ]
    },
    {
     "name": "stdout",
     "output_type": "stream",
     "text": [
      "130 FRA points renamed for MUAC FRA\n"
     ]
    },
    {
     "name": "stderr",
     "output_type": "stream",
     "text": [
      "MUAC FRA: 100%|██████████| 186/186 [00:00<00:00, 812.93it/s]\n"
     ]
    },
    {
     "name": "stdout",
     "output_type": "stream",
     "text": [
      "127 FRA points renamed for UKNESFRA\n"
     ]
    },
    {
     "name": "stderr",
     "output_type": "stream",
     "text": [
      "UKNESFRA: 100%|██████████| 133/133 [00:00<00:00, 808.11it/s]\n"
     ]
    },
    {
     "name": "stdout",
     "output_type": "stream",
     "text": [
      "FRA graph merged into ATS graph. Nodes: 2668, edges: 121054\n",
      "Computing cost for the ATS-FRA route graph...\n"
     ]
    },
    {
     "name": "stderr",
     "output_type": "stream",
     "text": [
      "Adding nodes to subset: 100%|██████████| 2668/2668 [00:00<00:00, 284215.15it/s]\n",
      "Adding edges to subset: 100%|██████████| 121054/121054 [00:00<00:00, 322818.88it/s]\n"
     ]
    },
    {
     "name": "stdout",
     "output_type": "stream",
     "text": [
      "Adding SID and STAR graphs to the subset...\n",
      "Route graph subset created. Nodes: 2924, edges: 121334\n",
      "Great circle distance between origin and destination: 1179.84 nm\n"
     ]
    }
   ],
   "source": [
    "from nav_graph import generate_navigraph\n",
    "\n",
    "route_graph = generate_navigraph(ORIGIN_ICAO, DEST_ICAO, origin_lat, origin_lon, dest_lat, dest_lon,\n",
    "                                  ORIGIN_RWY, DEST_RWY,\n",
    "                                  w_dct=1.0, w_fra=1.0, w_proc=0.2)\n"
   ]
  },
  {
   "cell_type": "markdown",
   "metadata": {},
   "source": [
    "# Shortest Path as Base Route"
   ]
  },
  {
   "cell_type": "markdown",
   "metadata": {},
   "source": [
    "Find the shortest path between origin and destination"
   ]
  },
  {
   "cell_type": "code",
   "execution_count": 5,
   "metadata": {},
   "outputs": [
    {
     "name": "stdout",
     "output_type": "stream",
     "text": [
      "Origin node EGLL_09R not found in graph. Available nodes for EGLL:\n",
      "  EGLL\n",
      "Using EGLL as origin node instead\n",
      "Destination node UKBB_18R not found in graph. Available nodes for UKBB:\n",
      "  UKBB\n",
      "Using UKBB as destination node instead\n",
      "Shortest path found with 26 waypoints\n",
      "EGLL CPT5J WOD BPK Q295 BRAIN M197 REDFA DERAM L980 POLON M70 OKROT SLV SLV2J UKBB\n"
     ]
    }
   ],
   "source": [
    "import networkx as nx\n",
    "from utils.flightplans import format_flightplan\n",
    "from utils.haversine import haversine_distance\n",
    "\n",
    "# Find the shortest path between origin and destination\n",
    "origin_node = f\"{ORIGIN_ICAO}_{ORIGIN_RWY}\"\n",
    "dest_node = f\"{DEST_ICAO}_{DEST_RWY}\"\n",
    "\n",
    "# Check if the nodes exist in the graph\n",
    "if origin_node not in route_graph.nodes:\n",
    "    print(f\"Origin node {origin_node} not found in graph. Available nodes for {ORIGIN_ICAO}:\")\n",
    "    for node in route_graph.nodes:\n",
    "        if node.startswith(ORIGIN_ICAO):\n",
    "            print(f\"  {node}\")\n",
    "    # Try to find an alternative\n",
    "    for node in route_graph.nodes:\n",
    "        if node.startswith(ORIGIN_ICAO):\n",
    "            origin_node = node\n",
    "            print(f\"Using {origin_node} as origin node instead\")\n",
    "            break\n",
    "\n",
    "if dest_node not in route_graph.nodes:\n",
    "    print(f\"Destination node {dest_node} not found in graph. Available nodes for {DEST_ICAO}:\")\n",
    "    for node in route_graph.nodes:\n",
    "        if node.startswith(DEST_ICAO):\n",
    "            print(f\"  {node}\")\n",
    "    # Try to find an alternative\n",
    "    for node in route_graph.nodes:\n",
    "        if node.startswith(DEST_ICAO):\n",
    "            dest_node = node\n",
    "            print(f\"Using {dest_node} as destination node instead\")\n",
    "            break\n",
    "\n",
    "# Find the shortest path\n",
    "try:\n",
    "    shortest_path = nx.shortest_path(route_graph, source=origin_node, target=dest_node, weight='cost')\n",
    "    print(f\"Shortest path found with {len(shortest_path)} waypoints\")\n",
    "    \n",
    "    # Convert shortest path into list of dictionaries with edge information\n",
    "    result = []\n",
    "    cumulative_cost = 0\n",
    "    cumulative_distance = 0\n",
    "    for i in range(len(shortest_path)-1):\n",
    "        from_node = shortest_path[i]\n",
    "        to_node = shortest_path[i+1]\n",
    "        \n",
    "        # Get node coordinates\n",
    "        from_lat = float(route_graph.nodes[from_node]['lat'])\n",
    "        from_lon = float(route_graph.nodes[from_node]['lon'])\n",
    "        to_lat = float(route_graph.nodes[to_node]['lat'])\n",
    "        to_lon = float(route_graph.nodes[to_node]['lon'])\n",
    "        \n",
    "        # Get edge data\n",
    "        edge_data = route_graph.edges[from_node, to_node]\n",
    "        cumulative_cost += edge_data['cost']\n",
    "        cumulative_distance += edge_data.get('distance', haversine_distance(from_lat, from_lon, to_lat, to_lon))\n",
    "\n",
    "        result.append({\n",
    "            'from_node': from_node,\n",
    "            'to_node': to_node,\n",
    "            'from_lat': from_lat,\n",
    "            'from_lon': from_lon,\n",
    "            'to_lat': to_lat,\n",
    "            'to_lon': to_lon,\n",
    "            'distance': edge_data.get('distance', haversine_distance(from_lat, from_lon, to_lat, to_lon)),\n",
    "            'cost': edge_data['cost'],\n",
    "            'edge_type': edge_data['edge_type'],\n",
    "            'airway': edge_data['airway'],\n",
    "        })\n",
    "\n",
    "    # Print the flight plan\n",
    "    print(format_flightplan(result))\n",
    "\n",
    "except nx.NetworkXNoPath:\n",
    "    print(f\"No path found between {origin_node} and {dest_node}\")\n",
    "except Exception as e:\n",
    "    print(f\"Error finding path: {e}\")"
   ]
  },
  {
   "cell_type": "markdown",
   "metadata": {},
   "source": [
    "# SPLICE Operation"
   ]
  },
  {
   "cell_type": "code",
   "execution_count": 6,
   "metadata": {},
   "outputs": [
    {
     "name": "stdout",
     "output_type": "stream",
     "text": [
      "Shortest path: ['EGLL', 'CPT5J_D130B', 'CPT5J_D253K']\n",
      "Length of shortest path: 26\n"
     ]
    }
   ],
   "source": [
    "print(f'Shortest path: {shortest_path[:3]}')\n",
    "print(f'Length of shortest path: {len(shortest_path)}')"
   ]
  },
  {
   "cell_type": "code",
   "execution_count": 7,
   "metadata": {},
   "outputs": [
    {
     "name": "stdout",
     "output_type": "stream",
     "text": [
      "SHORTEST PATH:  EGLL CPT5J_D130B CPT5J_D253K CPT5J_WOD WOD BPK TOTRI MATCH BRAIN GASBA RATLO REDFA ISMEF HLZ ARSAP DERAM POLON SOMOX TOLPA OKROT SLV SLV2J_SLV SLV2J_SL32B SLV2J_SLV50 SLV2J_D266B UKBB\n",
      "MINIMUM DESCRIPTION ROUTE:  EGLL MATCH GASBA RATLO ISMEF ARSAP DERAM POLON TOLPA OKROT SLV2J_D266B UKBB\n"
     ]
    }
   ],
   "source": [
    "from planner2 import minimum_description_route, check_ac_valid\n",
    "shortest_path_str = ' '.join(shortest_path)\n",
    "print('SHORTEST PATH: ',shortest_path_str)\n",
    "route_minimum = minimum_description_route(route_graph, shortest_path)\n",
    "print('MINIMUM DESCRIPTION ROUTE: ', ' '.join(route_minimum))\n"
   ]
  },
  {
   "cell_type": "code",
   "execution_count": 8,
   "metadata": {},
   "outputs": [
    {
     "name": "stdout",
     "output_type": "stream",
     "text": [
      "Keep until WOD (4) (inclusive) and from TOTRI (6) (inclusive)\n",
      "EGLL CPT5J_D130B CPT5J_D253K CPT5J_WOD WOD ...?... TOTRI MATCH BRAIN GASBA RATLO REDFA ISMEF HLZ ARSAP DERAM POLON SOMOX TOLPA OKROT SLV SLV2J_SLV SLV2J_SL32B SLV2J_SLV50 SLV2J_D266B UKBB\n",
      "AC valid: True, Key node count: 0\n",
      "Key nodes: []\n"
     ]
    }
   ],
   "source": [
    "a = 5\n",
    "b = 6\n",
    "c = 6\n",
    "print(f'Keep until {shortest_path[a-1]} ({a-1}) (inclusive) and from {shortest_path[c]} ({c}) (inclusive)')\n",
    "print(f'{\" \".join(shortest_path[:a])} ...?... {\" \".join(shortest_path[c:])}')\n",
    "\n",
    "ac_valid, key_node_count, key_nodes = check_ac_valid(a, c, shortest_path, route_minimum)\n",
    "print(f'AC valid: {ac_valid}, Key node count: {key_node_count}')\n",
    "print(f'Key nodes: {key_nodes}')"
   ]
  },
  {
   "cell_type": "code",
   "execution_count": 9,
   "metadata": {},
   "outputs": [
    {
     "name": "stdout",
     "output_type": "stream",
     "text": [
      "Found 1313 admissible pivot nodes for forward direction\n"
     ]
    }
   ],
   "source": [
    "from planner2 import find_admissible_pivot_nodes, collapse_pivot_options\n",
    "\n",
    "nodes_to_exclude = set(shortest_path[:a]) | set(shortest_path[c:])\n",
    "admissible_nodes_forward, forward_distances = find_admissible_pivot_nodes(route_graph, shortest_path[a-1], nodes_to_exclude,\n",
    "                                                                          max_depth=8, prevent_backtracking = True, origin = shortest_path[a-1], dest = shortest_path[c])\n",
    "\n",
    "print(f'Found {len(admissible_nodes_forward)} admissible pivot nodes for forward direction')"
   ]
  },
  {
   "cell_type": "code",
   "execution_count": 10,
   "metadata": {},
   "outputs": [
    {
     "name": "stdout",
     "output_type": "stream",
     "text": [
      "Found 283 admissible pivot nodes for backward direction\n"
     ]
    }
   ],
   "source": [
    "admissible_nodes_backward, backward_distances = find_admissible_pivot_nodes(route_graph, shortest_path[c], nodes_to_exclude,\n",
    "                                                                          max_depth=8, prevent_backtracking = True, origin = shortest_path[a-1], dest = shortest_path[c], direction = 'backward')\n",
    "print(f'Found {len(admissible_nodes_backward)} admissible pivot nodes for backward direction')"
   ]
  },
  {
   "cell_type": "code",
   "execution_count": 11,
   "metadata": {},
   "outputs": [],
   "source": [
    "# # Create a scatter plot of admissible_nodes_backward using cartopy\n",
    "# import matplotlib.pyplot as plt\n",
    "# import cartopy.crs as ccrs\n",
    "# import cartopy.feature as cfeature\n",
    "# import numpy as np\n",
    "\n",
    "# # Extract coordinates for backward admissible nodes\n",
    "# backward_lats = []\n",
    "# backward_lons = []\n",
    "# for node in admissible_nodes_backward:\n",
    "#     backward_lats.append(route_graph.nodes[node]['lat'])\n",
    "#     backward_lons.append(route_graph.nodes[node]['lon'])\n",
    "\n",
    "# # Create a figure with a map projection\n",
    "# plt.figure(figsize=(10, 8))\n",
    "# ax = plt.axes(projection=ccrs.PlateCarree())\n",
    "\n",
    "# # Add map features\n",
    "# ax.add_feature(cfeature.COASTLINE)\n",
    "# ax.add_feature(cfeature.BORDERS, linestyle=':')\n",
    "# ax.add_feature(cfeature.LAND, facecolor='lightgray')\n",
    "# ax.add_feature(cfeature.OCEAN, facecolor='lightblue')\n",
    "\n",
    "# # Plot the backward admissible nodes\n",
    "# ax.scatter(backward_lons, backward_lats, c='red', s=30, alpha=0.7, \n",
    "#            transform=ccrs.PlateCarree(), label='Backward Admissible Nodes')\n",
    "\n",
    "# # Add the original route for context\n",
    "# # route_lats = [route_graph.nodes[node]['lat'] for node in shortest_path]\n",
    "# # route_lons = [route_graph.nodes[node]['lon'] for node in shortest_path]\n",
    "# # ax.plot(route_lons, route_lats, 'b-', linewidth=2, \n",
    "# #         transform=ccrs.PlateCarree(), label='Original Route')\n",
    "\n",
    "# # Highlight the specific nodes a-1 and c\n",
    "# ax.scatter([route_graph.nodes[shortest_path[a-1]]['lon']], \n",
    "#            [route_graph.nodes[shortest_path[a-1]]['lat']], \n",
    "#            c='green', s=100, marker='*', edgecolor='black', \n",
    "#            transform=ccrs.PlateCarree(), label=f'Node {a-1}')\n",
    "\n",
    "# ax.scatter([route_graph.nodes[shortest_path[c]]['lon']], \n",
    "#            [route_graph.nodes[shortest_path[c]]['lat']], \n",
    "#            c='purple', s=100, marker='*', edgecolor='black', \n",
    "#            transform=ccrs.PlateCarree(), label=f'Node {c}')\n",
    "\n",
    "# # Set the map extent based on the data\n",
    "# buffer = 2  # degrees\n",
    "# min_lon, max_lon = min(backward_lons) - buffer, max(backward_lons) + buffer\n",
    "# min_lat, max_lat = min(backward_lats) - buffer, max(backward_lats) + buffer\n",
    "# ax.set_extent([min_lon, max_lon, min_lat, max_lat], crs=ccrs.PlateCarree())\n",
    "\n",
    "# # Add gridlines\n",
    "# ax.gridlines(draw_labels=True, linewidth=0.5, color='gray', alpha=0.5, linestyle='--')\n",
    "\n",
    "# # Add title and legend\n",
    "# plt.title('Backward Admissible Nodes and Original Route')\n",
    "# plt.legend(loc='upper left')\n",
    "\n",
    "# plt.tight_layout()\n",
    "# plt.show()\n"
   ]
  },
  {
   "cell_type": "code",
   "execution_count": 12,
   "metadata": {},
   "outputs": [
    {
     "name": "stdout",
     "output_type": "stream",
     "text": [
      "Forward: 1313 nodes can be considered; Backward: 283 nodes can be considered\n",
      "Overall 5 nodes can be considered as a potential pivot (V set)\n",
      "After collapsing, 2 nodes can be considered as a potential pivot (V_collapsed set)\n",
      "Examples: ['BPK', 'MODMI']\n",
      "Old pivot: BPK\n"
     ]
    }
   ],
   "source": [
    "# Find the intersection of forward and backward admissible nodes\n",
    "V = set(admissible_nodes_forward) & set(admissible_nodes_backward)\n",
    "# We also remove all nodes that are part of a SID or STAR node (containing an underscore)\n",
    "V = {v for v in V if '_' not in v}\n",
    "# Create a dictionary of nodes with their forward and backward distances\n",
    "V_distances = {v: {\n",
    "    'forward_dist': forward_distances[v], \n",
    "    'backward_dist': backward_distances[v]\n",
    "} for v in V}\n",
    "V_distances_collapsed = collapse_pivot_options(V_distances)\n",
    "V_collapsed = set(V_distances_collapsed.keys())\n",
    "\n",
    "if len(key_nodes) == 0:\n",
    "    # If key_nodes is empty, the current pivot is the one with lowest total distance in V_distances_collapsed\n",
    "    old_pivot_node = min(V_distances_collapsed, key=lambda x: V_distances_collapsed[x]['forward_dist'][1] + V_distances_collapsed[x]['backward_dist'][1])\n",
    "elif len(key_nodes) == 1: # len(key_nodes) == 1\n",
    "    # If key_nodes is not empty, the current pivot is the one in key_nodes\n",
    "    old_pivot_node = key_nodes[0]\n",
    "else: # len(key_nodes) > 1\n",
    "    raise ValueError(f'len(key_nodes) = {len(key_nodes)}, maximum is 1!')\n",
    "\n",
    "print(f'Forward: {len(admissible_nodes_forward)} nodes can be considered; Backward: {len(admissible_nodes_backward)} nodes can be considered')\n",
    "print(f'Overall {len(V)} nodes can be considered as a potential pivot (V set)')\n",
    "print(f'After collapsing, {len(V_collapsed)} nodes can be considered as a potential pivot (V_collapsed set)')\n",
    "print(f'Examples: {list(V_collapsed)[:5]}')\n",
    "print(f'Old pivot: {old_pivot_node}')"
   ]
  },
  {
   "cell_type": "code",
   "execution_count": 13,
   "metadata": {},
   "outputs": [
    {
     "name": "stdout",
     "output_type": "stream",
     "text": [
      "Node: BPK, Forward: (1, 33.8655136485195), Backward: (1, 11.37), Total: 45.2355136485195\n",
      "Node: MODMI, Forward: (2, 37.74), Backward: (4, 45.45), Total: 83.19\n"
     ]
    }
   ],
   "source": [
    "# Show the V_distances sorted by total distance from smallest to largest\n",
    "sorted_V_distances = dict(sorted(V_distances_collapsed.items(), \n",
    "                                 key=lambda x: x[1]['forward_dist'][1] + x[1]['backward_dist'][1]))\n",
    "\n",
    "# Print sorted V_distances with total distance\n",
    "for node, distances in list(sorted_V_distances.items())[:10]:\n",
    "    total_dist = distances['forward_dist'][1] + distances['backward_dist'][1]\n",
    "    print(f\"Node: {node}, Forward: {distances['forward_dist']}, Backward: {distances['backward_dist']}, Total: {total_dist}\")\n"
   ]
  },
  {
   "cell_type": "code",
   "execution_count": 25,
   "metadata": {},
   "outputs": [
    {
     "name": "stdout",
     "output_type": "stream",
     "text": [
      "Old pivot BPK probability: 0.5094874826879556\n"
     ]
    },
    {
     "data": {
      "image/png": "[encoded data removed]",
      "text/plain": [
       "<Figure size 400x300 with 1 Axes>"
      ]
     },
     "metadata": {},
     "output_type": "display_data"
    }
   ],
   "source": [
    "# Sample a pivot point\n",
    "from planner2 import sample_pivot, compute_pivot_probabilities\n",
    "pivot_probabilities = compute_pivot_probabilities(V_distances_collapsed, mu = 1000)\n",
    "sampled_V, prob_sampled_V, old_pivot_prob = sample_pivot(V_distances_collapsed, pivot_probabilities, num_samples=100, old_pivot = old_pivot_node)\n",
    "print(f'Old pivot {old_pivot_node} probability: {old_pivot_prob}')\n",
    "# Plot histogram of sampled pivot points\n",
    "import matplotlib.pyplot as plt\n",
    "\n",
    "plt.figure(figsize=(4, 3))\n",
    "plt.hist(sampled_V, bins=20, edgecolor='black')\n",
    "plt.title('Distribution of Sampled Pivot Points')\n",
    "plt.xlabel('Pivot Node')\n",
    "plt.ylabel('Frequency')\n",
    "plt.xticks(rotation=90, ha='right')\n",
    "plt.tight_layout()\n",
    "plt.show()\n"
   ]
  },
  {
   "cell_type": "code",
   "execution_count": 29,
   "metadata": {},
   "outputs": [
    {
     "name": "stdout",
     "output_type": "stream",
     "text": [
      "New pivot point: MODMI\n",
      "New route: EGLL CPT5J WOD UL612 MID UM185 BPK Q295 BRAIN M197 REDFA DERAM L980 POLON M70 OKROT SLV SLV2J UKBB\n"
     ]
    }
   ],
   "source": [
    "from planner2 import replace_route_segment\n",
    "from utils.flightplans import get_detailed_flightplan_from_waypoint_list\n",
    "\n",
    "print(f'New pivot point: {sampled_V[2]}')\n",
    "new_route, a_prime, c_prime, head_dups, tail_dups = replace_route_segment(route_graph, shortest_path, a, c, sampled_V[2])\n",
    "new_route_detailed = get_detailed_flightplan_from_waypoint_list(route_graph, new_route)\n",
    "print(f'New route: {format_flightplan(new_route_detailed)}')\n"
   ]
  },
  {
   "cell_type": "code",
   "execution_count": null,
   "metadata": {},
   "outputs": [],
   "source": []
  },
  {
   "cell_type": "code",
   "execution_count": null,
   "metadata": {},
   "outputs": [],
   "source": []
  },
  {
   "cell_type": "code",
   "execution_count": null,
   "metadata": {},
   "outputs": [],
   "source": []
  },
  {
   "cell_type": "code",
   "execution_count": null,
   "metadata": {},
   "outputs": [],
   "source": []
  },
  {
   "cell_type": "code",
   "execution_count": null,
   "metadata": {},
   "outputs": [],
   "source": []
  },
  {
   "cell_type": "code",
   "execution_count": 27,
   "metadata": {},
   "outputs": [
    {
     "name": "stdout",
     "output_type": "stream",
     "text": [
      "['WOD', 'MID', 'MODMI']\n",
      "['MODMI', 'OCK', 'KOBBI', 'BPK', 'TOTRI']\n"
     ]
    }
   ],
   "source": [
    "from planner2 import get_shortest_path\n",
    "from_wod = get_shortest_path(route_graph, shortest_path[a-1], 'MODMI')\n",
    "to_gasba = get_shortest_path(route_graph, 'MODMI', shortest_path[c])\n",
    "print(f'{from_wod}')\n",
    "print(f'{to_gasba}')\n"
   ]
  },
  {
   "cell_type": "code",
   "execution_count": 28,
   "metadata": {},
   "outputs": [
    {
     "data": {
      "image/png": "[encoded data removed]",
      "text/plain": [
       "<Figure size 1500x1000 with 1 Axes>"
      ]
     },
     "metadata": {},
     "output_type": "display_data"
    }
   ],
   "source": [
    "from utils.ploter import plot_flightplan2\n",
    "plot_flightplan2(route_graph, from_wod + to_gasba)\n"
   ]
  },
  {
   "cell_type": "code",
   "execution_count": null,
   "metadata": {},
   "outputs": [],
   "source": []
  },
  {
   "cell_type": "code",
   "execution_count": null,
   "metadata": {},
   "outputs": [],
   "source": []
  },
  {
   "cell_type": "code",
   "execution_count": null,
   "metadata": {},
   "outputs": [],
   "source": []
  },
  {
   "cell_type": "code",
   "execution_count": null,
   "metadata": {},
   "outputs": [],
   "source": []
  },
  {
   "cell_type": "code",
   "execution_count": null,
   "metadata": {},
   "outputs": [],
   "source": []
  },
  {
   "cell_type": "code",
   "execution_count": null,
   "metadata": {},
   "outputs": [],
   "source": []
  },
  {
   "cell_type": "code",
   "execution_count": null,
   "metadata": {},
   "outputs": [],
   "source": []
  }
 ],
 "metadata": {
  "kernelspec": {
   "display_name": "Python 3",
   "language": "python",
   "name": "python3"
  },
  "language_info": {
   "codemirror_mode": {
    "name": "ipython",
    "version": 3
   },
   "file_extension": ".py",
   "mimetype": "text/x-python",
   "name": "python",
   "nbconvert_exporter": "python",
   "pygments_lexer": "ipython3",
   "version": "3.12.3"
  }
 },
 "nbformat": 4,
 "nbformat_minor": 2
}
