{
 "cells": [
  {
   "cell_type": "code",
   "execution_count": 1,
   "metadata": {},
   "outputs": [],
   "source": [
    "%load_ext autoreload\n",
    "%autoreload 2\n",
    "\n",
    "import networkx as nx\n",
    "from dotenv import load_dotenv\n",
    "import os, sys\n",
    "import numpy as np\n",
    "from matplotlib import pyplot as plt\n",
    "\n",
    "\n",
    "load_dotenv()\n",
    "PROJECT_ROOT = os.getenv('PROJECT_ROOT')\n",
    "# Add the project root to the Python path\n",
    "sys.path.append(PROJECT_ROOT)"
   ]
  },
  {
   "cell_type": "code",
   "execution_count": 2,
   "metadata": {},
   "outputs": [],
   "source": [
    "from nav_graph import load_ats_graph, load_fra_graph_into_ats_graph, route_graph_subset\n",
    "import pandas as pd \n",
    "\n",
    "# Load the airports dataframe\n",
    "airports_df = pd.read_csv(os.path.join(PROJECT_ROOT, \"data\", \"airac\", \"airports.csv\"))\n",
    "# columns of airports_df: icao,name,latitude,longitude,elevation"
   ]
  },
  {
   "cell_type": "code",
   "execution_count": 3,
   "metadata": {},
   "outputs": [
    {
     "name": "stdout",
     "output_type": "stream",
     "text": [
      "Origin: EGLL - HEATHROW (51.4775, -0.461389, 09R)\n",
      "Destination: UKBB - BORYSPIL INTL (50.344722, 30.893333, 18R)\n"
     ]
    }
   ],
   "source": [
    "ORIGIN_ICAO = 'EGLL'\n",
    "DEST_ICAO = 'UKBB'\n",
    "ORIGIN_RWY = '09R'\n",
    "DEST_RWY = '18R'\n",
    "\n",
    "# Get the latitude and longitude of the origin and destination\n",
    "origin_lat = airports_df[airports_df['icao'] == ORIGIN_ICAO]['latitude'].values[0]\n",
    "origin_lon = airports_df[airports_df['icao'] == ORIGIN_ICAO]['longitude'].values[0]\n",
    "dest_lat = airports_df[airports_df['icao'] == DEST_ICAO]['latitude'].values[0]\n",
    "dest_lon = airports_df[airports_df['icao'] == DEST_ICAO]['longitude'].values[0]\n",
    "# Origin and destination airport names\n",
    "origin_name = airports_df[airports_df['icao'] == ORIGIN_ICAO]['name'].values[0]\n",
    "dest_name = airports_df[airports_df['icao'] == DEST_ICAO]['name'].values[0]\n",
    "\n",
    "print(f'Origin: {ORIGIN_ICAO} - {origin_name} ({origin_lat}, {origin_lon}, {ORIGIN_RWY})')\n",
    "print(f'Destination: {DEST_ICAO} - {dest_name} ({dest_lat}, {dest_lon}, {DEST_RWY})')"
   ]
  },
  {
   "cell_type": "code",
   "execution_count": 4,
   "metadata": {},
   "outputs": [
    {
     "name": "stdout",
     "output_type": "stream",
     "text": [
      "Subsetting the ATS graph to the great circle path between origin and destination...\n"
     ]
    },
    {
     "name": "stderr",
     "output_type": "stream",
     "text": [
      "Adding nodes to subset: 100%|██████████| 9558/9558 [00:00<00:00, 196895.76it/s]\n",
      "Adding edges to subset: 100%|██████████| 25011/25011 [00:00<00:00, 916173.84it/s]"
     ]
    },
    {
     "name": "stdout",
     "output_type": "stream",
     "text": [
      "ATS graph loaded. Nodes: 1670, edges: 3817\n",
      "Building FRA routing options...\n"
     ]
    },
    {
     "name": "stderr",
     "output_type": "stream",
     "text": [
      "\n"
     ]
    },
    {
     "name": "stdout",
     "output_type": "stream",
     "text": [
      "Found 1037 FRA points within 100nm of the great circle path between origin and destination.          \n",
      "Merging these into the ATS graph...\n",
      "223 FRA points renamed for BALTIC & FRAIT & SECSI & SEE FRA\n"
     ]
    },
    {
     "name": "stderr",
     "output_type": "stream",
     "text": [
      "BALTIC & FRAIT & SECSI & SEE FRA: 100%|██████████| 267/267 [00:00<00:00, 584.73it/s]\n"
     ]
    },
    {
     "name": "stdout",
     "output_type": "stream",
     "text": [
      "35 FRA points renamed for BELFRA\n"
     ]
    },
    {
     "name": "stderr",
     "output_type": "stream",
     "text": [
      "BELFRA: 100%|██████████| 39/39 [00:00<00:00, 5707.93it/s]\n"
     ]
    },
    {
     "name": "stdout",
     "output_type": "stream",
     "text": [
      "90 FRA points renamed for BOREALIS FRA\n"
     ]
    },
    {
     "name": "stderr",
     "output_type": "stream",
     "text": [
      "BOREALIS FRA: 100%|██████████| 202/202 [00:00<00:00, 1264.65it/s]\n"
     ]
    },
    {
     "name": "stdout",
     "output_type": "stream",
     "text": [
      "31 FRA points renamed for EDMM EAST\n"
     ]
    },
    {
     "name": "stderr",
     "output_type": "stream",
     "text": [
      "EDMM EAST: 100%|██████████| 35/35 [00:00<00:00, 7941.18it/s]\n"
     ]
    },
    {
     "name": "stdout",
     "output_type": "stream",
     "text": [
      "44 FRA points renamed for EDUU EAST\n"
     ]
    },
    {
     "name": "stderr",
     "output_type": "stream",
     "text": [
      "EDUU EAST: 100%|██████████| 49/49 [00:00<00:00, 6862.13it/s]\n"
     ]
    },
    {
     "name": "stdout",
     "output_type": "stream",
     "text": [
      "53 FRA points renamed for EDUU NORTH\n"
     ]
    },
    {
     "name": "stderr",
     "output_type": "stream",
     "text": [
      "EDUU NORTH: 100%|██████████| 72/72 [00:00<00:00, 4246.26it/s]\n"
     ]
    },
    {
     "name": "stdout",
     "output_type": "stream",
     "text": [
      "10 FRA points renamed for EDUU WEST\n"
     ]
    },
    {
     "name": "stderr",
     "output_type": "stream",
     "text": [
      "EDUU WEST: 100%|██████████| 16/16 [00:00<00:00, 3209.26it/s]\n"
     ]
    },
    {
     "name": "stdout",
     "output_type": "stream",
     "text": [
      "25 FRA points renamed for EDWW EAST\n"
     ]
    },
    {
     "name": "stderr",
     "output_type": "stream",
     "text": [
      "EDWW EAST: 100%|██████████| 30/30 [00:00<00:00, 5003.54it/s]\n"
     ]
    },
    {
     "name": "stdout",
     "output_type": "stream",
     "text": [
      "2 FRA points renamed for LFFRANW\n"
     ]
    },
    {
     "name": "stderr",
     "output_type": "stream",
     "text": [
      "LFFRANW: 100%|██████████| 8/8 [00:00<00:00, 7966.39it/s]\n"
     ]
    },
    {
     "name": "stdout",
     "output_type": "stream",
     "text": [
      "130 FRA points renamed for MUAC FRA\n"
     ]
    },
    {
     "name": "stderr",
     "output_type": "stream",
     "text": [
      "MUAC FRA: 100%|██████████| 186/186 [00:00<00:00, 915.02it/s]\n"
     ]
    },
    {
     "name": "stdout",
     "output_type": "stream",
     "text": [
      "127 FRA points renamed for UKNESFRA\n"
     ]
    },
    {
     "name": "stderr",
     "output_type": "stream",
     "text": [
      "UKNESFRA: 100%|██████████| 133/133 [00:00<00:00, 915.27it/s]\n"
     ]
    },
    {
     "name": "stdout",
     "output_type": "stream",
     "text": [
      "FRA graph merged into ATS graph. Nodes: 2666, edges: 121054\n",
      "Computing cost for the ATS-FRA route graph...\n"
     ]
    },
    {
     "name": "stderr",
     "output_type": "stream",
     "text": [
      "Adding nodes to subset: 100%|██████████| 2666/2666 [00:00<00:00, 311494.08it/s]\n",
      "Adding edges to subset: 100%|██████████| 121054/121054 [00:00<00:00, 375503.38it/s]\n"
     ]
    },
    {
     "name": "stdout",
     "output_type": "stream",
     "text": [
      "Adding SID and STAR graphs to the subset...\n",
      "Route graph subset created. Nodes: 2922, edges: 121334\n",
      "Great circle distance between origin and destination: 1179.84 nm\n"
     ]
    }
   ],
   "source": [
    "from nav_graph import generate_navigraph\n",
    "\n",
    "route_graph = generate_navigraph(ORIGIN_ICAO, DEST_ICAO, origin_lat, origin_lon, dest_lat, dest_lon,\n",
    "                                  ORIGIN_RWY, DEST_RWY,\n",
    "                                  w_dct=1.0, w_fra=1.0, w_proc=0.2)\n"
   ]
  },
  {
   "cell_type": "code",
   "execution_count": 5,
   "metadata": {},
   "outputs": [],
   "source": [
    "from nav_graph import plan\n",
    "fpl, ccost, cdist = plan(route_graph, ORIGIN_ICAO, DEST_ICAO)"
   ]
  },
  {
   "cell_type": "code",
   "execution_count": 6,
   "metadata": {},
   "outputs": [
    {
     "name": "stdout",
     "output_type": "stream",
     "text": [
      "EGLL CPT5J WOD BPK Q295 BRAIN M197 REDFA DERAM L980 POLON M70 OKROT SLV SLV2J UKBB\n"
     ]
    }
   ],
   "source": [
    "from utils.flightplans import format_flightplan\n",
    "print(format_flightplan(fpl))\n"
   ]
  },
  {
   "cell_type": "code",
   "execution_count": 7,
   "metadata": {},
   "outputs": [
    {
     "name": "stdout",
     "output_type": "stream",
     "text": [
      "Origin: EGLL - HEATHROW (51.4775, -0.461389, 09R)\n",
      "Destination: UKBB - BORYSPIL INTL (50.344722, 30.893333, 18R)\n",
      "Subsetting the ATS graph to the great circle path between origin and destination...\n"
     ]
    },
    {
     "name": "stderr",
     "output_type": "stream",
     "text": [
      "Adding nodes to subset: 100%|██████████| 9558/9558 [00:00<00:00, 186184.09it/s]\n",
      "Adding edges to subset: 100%|██████████| 25011/25011 [00:00<00:00, 893558.24it/s]"
     ]
    },
    {
     "name": "stdout",
     "output_type": "stream",
     "text": [
      "ATS graph loaded. Nodes: 1670, edges: 3817\n",
      "Building FRA routing options...\n"
     ]
    },
    {
     "name": "stderr",
     "output_type": "stream",
     "text": [
      "\n"
     ]
    },
    {
     "name": "stdout",
     "output_type": "stream",
     "text": [
      "Found 1037 FRA points within 100nm of the great circle path between origin and destination.          \n",
      "Merging these into the ATS graph...\n",
      "223 FRA points renamed for BALTIC & FRAIT & SECSI & SEE FRA\n"
     ]
    },
    {
     "name": "stderr",
     "output_type": "stream",
     "text": [
      "BALTIC & FRAIT & SECSI & SEE FRA: 100%|██████████| 267/267 [00:00<00:00, 520.97it/s]\n"
     ]
    },
    {
     "name": "stdout",
     "output_type": "stream",
     "text": [
      "35 FRA points renamed for BELFRA\n"
     ]
    },
    {
     "name": "stderr",
     "output_type": "stream",
     "text": [
      "BELFRA: 100%|██████████| 39/39 [00:00<00:00, 4856.82it/s]\n"
     ]
    },
    {
     "name": "stdout",
     "output_type": "stream",
     "text": [
      "90 FRA points renamed for BOREALIS FRA\n"
     ]
    },
    {
     "name": "stderr",
     "output_type": "stream",
     "text": [
      "BOREALIS FRA: 100%|██████████| 202/202 [00:00<00:00, 1198.15it/s]\n"
     ]
    },
    {
     "name": "stdout",
     "output_type": "stream",
     "text": [
      "31 FRA points renamed for EDMM EAST\n"
     ]
    },
    {
     "name": "stderr",
     "output_type": "stream",
     "text": [
      "EDMM EAST: 100%|██████████| 35/35 [00:00<00:00, 7897.18it/s]\n"
     ]
    },
    {
     "name": "stdout",
     "output_type": "stream",
     "text": [
      "44 FRA points renamed for EDUU EAST\n"
     ]
    },
    {
     "name": "stderr",
     "output_type": "stream",
     "text": [
      "EDUU EAST: 100%|██████████| 49/49 [00:00<00:00, 5824.43it/s]\n"
     ]
    },
    {
     "name": "stdout",
     "output_type": "stream",
     "text": [
      "53 FRA points renamed for EDUU NORTH\n"
     ]
    },
    {
     "name": "stderr",
     "output_type": "stream",
     "text": [
      "EDUU NORTH: 100%|██████████| 72/72 [00:00<00:00, 1485.91it/s]\n"
     ]
    },
    {
     "name": "stdout",
     "output_type": "stream",
     "text": [
      "10 FRA points renamed for EDUU WEST\n"
     ]
    },
    {
     "name": "stderr",
     "output_type": "stream",
     "text": [
      "EDUU WEST: 100%|██████████| 16/16 [00:00<00:00, 8011.09it/s]\n"
     ]
    },
    {
     "name": "stdout",
     "output_type": "stream",
     "text": [
      "25 FRA points renamed for EDWW EAST\n"
     ]
    },
    {
     "name": "stderr",
     "output_type": "stream",
     "text": [
      "EDWW EAST: 100%|██████████| 30/30 [00:00<00:00, 6024.57it/s]\n"
     ]
    },
    {
     "name": "stdout",
     "output_type": "stream",
     "text": [
      "2 FRA points renamed for LFFRANW\n"
     ]
    },
    {
     "name": "stderr",
     "output_type": "stream",
     "text": [
      "LFFRANW: 100%|██████████| 8/8 [00:00<00:00, 8008.22it/s]"
     ]
    },
    {
     "name": "stdout",
     "output_type": "stream",
     "text": [
      "130 FRA points renamed for MUAC FRA\n"
     ]
    },
    {
     "name": "stderr",
     "output_type": "stream",
     "text": [
      "\n",
      "MUAC FRA: 100%|██████████| 186/186 [00:00<00:00, 803.86it/s]\n"
     ]
    },
    {
     "name": "stdout",
     "output_type": "stream",
     "text": [
      "127 FRA points renamed for UKNESFRA\n"
     ]
    },
    {
     "name": "stderr",
     "output_type": "stream",
     "text": [
      "UKNESFRA: 100%|██████████| 133/133 [00:00<00:00, 877.08it/s]\n"
     ]
    },
    {
     "name": "stdout",
     "output_type": "stream",
     "text": [
      "FRA graph merged into ATS graph. Nodes: 2664, edges: 121054\n",
      "Computing cost for the ATS-FRA route graph...\n"
     ]
    },
    {
     "name": "stderr",
     "output_type": "stream",
     "text": [
      "Adding nodes to subset: 100%|██████████| 2664/2664 [00:00<00:00, 346383.09it/s]\n",
      "Adding edges to subset: 100%|██████████| 121054/121054 [00:00<00:00, 304376.95it/s]\n"
     ]
    },
    {
     "name": "stdout",
     "output_type": "stream",
     "text": [
      "Adding SID and STAR graphs to the subset...\n",
      "Route graph subset created. Nodes: 2920, edges: 121334\n",
      "Great circle distance between origin and destination: 1179.84 nm\n",
      "--------------------------------\n",
      "EGLL CPT5J WOD BPK Q295 BRAIN M197 REDFA DERAM L980 POLON M70 OKROT SLV SLV2J UKBB\n",
      "--------------------------------\n",
      "Cumulative cost: 1169.5899009334014\n",
      "Cumulative distance: 1234.751476976051\n"
     ]
    }
   ],
   "source": [
    "from nav_graph import plan_e2e\n",
    "\n",
    "fpl, ccost, cdist = plan_e2e(ORIGIN_ICAO, DEST_ICAO, ORIGIN_RWY, DEST_RWY,\n",
    "         airports_df_path=os.path.join(PROJECT_ROOT, \"data\", \"airac\", \"airports.csv\"))\n",
    "\n",
    "print('--------------------------------')\n",
    "print(format_flightplan(fpl))\n",
    "print('--------------------------------')\n",
    "print(f\"Cumulative cost: {ccost}\")\n",
    "print(f\"Cumulative distance: {cdist}\")\n"
   ]
  },
  {
   "cell_type": "code",
   "execution_count": 8,
   "metadata": {},
   "outputs": [
    {
     "data": {
      "text/plain": [
       "[{'from_node': 'EGLL',\n",
       "  'to_node': 'CPT5J_D130B',\n",
       "  'from_lat': 51.4775,\n",
       "  'from_lon': -0.461389,\n",
       "  'to_lat': 51.465417,\n",
       "  'to_lon': -0.426283,\n",
       "  'distance': 1.500043829285357,\n",
       "  'cost': 0.3000087658570714,\n",
       "  'edge_type': 'PROC-SID',\n",
       "  'airway': 'CPT5J'},\n",
       " {'from_node': 'CPT5J_D130B',\n",
       "  'to_node': 'CPT5J_D253K',\n",
       "  'from_lat': 51.465417,\n",
       "  'from_lon': -0.426283,\n",
       "  'to_lat': 51.436861,\n",
       "  'to_lon': -0.748356,\n",
       "  'distance': 12.172067814529617,\n",
       "  'cost': 2.434413562905924,\n",
       "  'edge_type': 'PROC',\n",
       "  'airway': 'CPT5J'},\n",
       " {'from_node': 'CPT5J_D253K',\n",
       "  'to_node': 'CPT5J_WOD',\n",
       "  'from_lat': 51.436861,\n",
       "  'from_lon': -0.748356,\n",
       "  'to_lat': 51.452783,\n",
       "  'to_lon': -0.8788,\n",
       "  'distance': 4.974109995431033,\n",
       "  'cost': 0.9948219990862066,\n",
       "  'edge_type': 'PROC',\n",
       "  'airway': 'CPT5J'},\n",
       " {'from_node': 'CPT5J_WOD',\n",
       "  'to_node': 'WOD',\n",
       "  'from_lat': 51.452783,\n",
       "  'from_lon': -0.8788,\n",
       "  'to_lat': 51.452783,\n",
       "  'to_lon': -0.8788,\n",
       "  'distance': 0.0,\n",
       "  'cost': 0.0,\n",
       "  'edge_type': 'DCT',\n",
       "  'airway': ''},\n",
       " {'from_node': 'WOD',\n",
       "  'to_node': 'BPK',\n",
       "  'from_lat': 51.452783,\n",
       "  'from_lon': -0.8788,\n",
       "  'to_lat': 51.749736,\n",
       "  'to_lon': -0.106736,\n",
       "  'distance': 33.8655136485195,\n",
       "  'cost': 33.8655136485195,\n",
       "  'edge_type': 'DCT',\n",
       "  'airway': ''},\n",
       " {'from_node': 'BPK',\n",
       "  'to_node': 'TOTRI',\n",
       "  'from_lat': 51.749736,\n",
       "  'from_lon': -0.106736,\n",
       "  'to_lat': 51.774881,\n",
       "  'to_lon': 0.196589,\n",
       "  'distance': 11.37,\n",
       "  'cost': 11.37,\n",
       "  'edge_type': 'airway',\n",
       "  'airway': 'Q295'},\n",
       " {'from_node': 'TOTRI',\n",
       "  'to_node': 'MATCH',\n",
       "  'from_lat': 51.774881,\n",
       "  'from_lon': 0.196589,\n",
       "  'to_lat': 51.779222,\n",
       "  'to_lon': 0.25,\n",
       "  'distance': 2.0,\n",
       "  'cost': 2.0,\n",
       "  'edge_type': 'airway',\n",
       "  'airway': 'Q295'},\n",
       " {'from_node': 'MATCH',\n",
       "  'to_node': 'BRAIN',\n",
       "  'from_lat': 51.779222,\n",
       "  'from_lon': 0.25,\n",
       "  'to_lat': 51.811086,\n",
       "  'to_lon': 0.651667,\n",
       "  'distance': 15.03,\n",
       "  'cost': 15.03,\n",
       "  'edge_type': 'airway',\n",
       "  'airway': 'Q295'},\n",
       " {'from_node': 'BRAIN',\n",
       "  'to_node': 'GASBA',\n",
       "  'from_lat': 51.811086,\n",
       "  'from_lon': 0.651667,\n",
       "  'to_lat': 51.836222,\n",
       "  'to_lon': 0.814681,\n",
       "  'distance': 6.23,\n",
       "  'cost': 6.23,\n",
       "  'edge_type': 'airway',\n",
       "  'airway': 'M197'},\n",
       " {'from_node': 'GASBA',\n",
       "  'to_node': 'RATLO',\n",
       "  'from_lat': 51.836222,\n",
       "  'from_lon': 0.814681,\n",
       "  'to_lat': 51.991425,\n",
       "  'to_lon': 1.681994,\n",
       "  'distance': 33.42,\n",
       "  'cost': 33.42,\n",
       "  'edge_type': 'airway',\n",
       "  'airway': 'M197'},\n",
       " {'from_node': 'RATLO',\n",
       "  'to_node': 'REDFA',\n",
       "  'from_lat': 51.991425,\n",
       "  'from_lon': 1.681994,\n",
       "  'to_lat': 52.114586,\n",
       "  'to_lon': 2.487947,\n",
       "  'distance': 30.64,\n",
       "  'cost': 30.64,\n",
       "  'edge_type': 'airway',\n",
       "  'airway': 'M197'},\n",
       " {'from_node': 'REDFA',\n",
       "  'to_node': 'ISMEF',\n",
       "  'from_lat': 52.114586,\n",
       "  'from_lon': 2.487947,\n",
       "  'to_lat': 52.3748,\n",
       "  'to_lon': 7.2827,\n",
       "  'distance': 176.92378978477453,\n",
       "  'cost': 176.92378978477453,\n",
       "  'edge_type': 'FRA',\n",
       "  'airway': ''},\n",
       " {'from_node': 'ISMEF',\n",
       "  'to_node': 'HLZ',\n",
       "  'from_lat': 52.3748,\n",
       "  'from_lon': 7.2827,\n",
       "  'to_lat': 52.363394,\n",
       "  'to_lon': 10.795219,\n",
       "  'distance': 128.75477567895197,\n",
       "  'cost': 128.75477567895197,\n",
       "  'edge_type': 'FRA',\n",
       "  'airway': ''},\n",
       " {'from_node': 'HLZ',\n",
       "  'to_node': 'ARSAP',\n",
       "  'from_lat': 52.363394,\n",
       "  'from_lon': 10.795219,\n",
       "  'to_lat': 52.228056,\n",
       "  'to_lon': 14.7125,\n",
       "  'distance': 144.05382447107445,\n",
       "  'cost': 144.05382447107445,\n",
       "  'edge_type': 'FRA',\n",
       "  'airway': ''},\n",
       " {'from_node': 'ARSAP',\n",
       "  'to_node': 'DERAM',\n",
       "  'from_lat': 52.228056,\n",
       "  'from_lon': 14.7125,\n",
       "  'to_lat': 51.846944,\n",
       "  'to_lon': 19.280833,\n",
       "  'distance': 170.24027949566334,\n",
       "  'cost': 170.24027949566334,\n",
       "  'edge_type': 'FRA',\n",
       "  'airway': ''},\n",
       " {'from_node': 'DERAM',\n",
       "  'to_node': 'POLON',\n",
       "  'from_lat': 51.846944,\n",
       "  'from_lon': 19.280833,\n",
       "  'to_lat': 51.8,\n",
       "  'to_lon': 19.656111,\n",
       "  'distance': 14.2,\n",
       "  'cost': 14.2,\n",
       "  'edge_type': 'airway',\n",
       "  'airway': 'L980'},\n",
       " {'from_node': 'POLON',\n",
       "  'to_node': 'SOMOX',\n",
       "  'from_lat': 51.8,\n",
       "  'from_lon': 19.656111,\n",
       "  'to_lat': 51.468056,\n",
       "  'to_lon': 22.443056,\n",
       "  'distance': 105.68,\n",
       "  'cost': 105.68,\n",
       "  'edge_type': 'airway',\n",
       "  'airway': 'M70'},\n",
       " {'from_node': 'SOMOX',\n",
       "  'to_node': 'TOLPA',\n",
       "  'from_lat': 51.468056,\n",
       "  'from_lon': 22.443056,\n",
       "  'to_lat': 51.302778,\n",
       "  'to_lon': 23.645833,\n",
       "  'distance': 46.12,\n",
       "  'cost': 46.12,\n",
       "  'edge_type': 'airway',\n",
       "  'airway': 'M70'},\n",
       " {'from_node': 'TOLPA',\n",
       "  'to_node': 'OKROT',\n",
       "  'from_lat': 51.302778,\n",
       "  'from_lon': 23.645833,\n",
       "  'to_lat': 50.706944,\n",
       "  'to_lon': 27.348889,\n",
       "  'distance': 144.29,\n",
       "  'cost': 144.29,\n",
       "  'edge_type': 'airway',\n",
       "  'airway': 'M70'},\n",
       " {'from_node': 'OKROT',\n",
       "  'to_node': 'SLV',\n",
       "  'from_lat': 50.706944,\n",
       "  'from_lon': 27.348889,\n",
       "  'to_lat': 50.186806,\n",
       "  'to_lon': 29.570139,\n",
       "  'distance': 90.48132384375525,\n",
       "  'cost': 90.48132384375525,\n",
       "  'edge_type': 'FRA',\n",
       "  'airway': ''},\n",
       " {'from_node': 'SLV',\n",
       "  'to_node': 'SLV2J_SLV',\n",
       "  'from_lat': 50.186806,\n",
       "  'from_lon': 29.570139,\n",
       "  'to_lat': 50.186806,\n",
       "  'to_lon': 29.570139,\n",
       "  'distance': 0.0,\n",
       "  'cost': 0.0,\n",
       "  'edge_type': 'DCT',\n",
       "  'airway': ''},\n",
       " {'from_node': 'SLV2J_SLV',\n",
       "  'to_node': 'SLV2J_SL32B',\n",
       "  'from_lat': 50.186806,\n",
       "  'from_lon': 29.570139,\n",
       "  'to_lat': 50.478453,\n",
       "  'to_lon': 30.279128,\n",
       "  'distance': 32.32566444168387,\n",
       "  'cost': 6.4651328883367745,\n",
       "  'edge_type': 'PROC',\n",
       "  'airway': 'SLV2J'},\n",
       " {'from_node': 'SLV2J_SL32B',\n",
       "  'to_node': 'SLV2J_SLV50',\n",
       "  'from_lat': 50.478453,\n",
       "  'from_lon': 30.279128,\n",
       "  'to_lat': 50.635811,\n",
       "  'to_lon': 30.669817,\n",
       "  'distance': 17.644993226590604,\n",
       "  'cost': 3.528998645318121,\n",
       "  'edge_type': 'PROC',\n",
       "  'airway': 'SLV2J'},\n",
       " {'from_node': 'SLV2J_SLV50',\n",
       "  'to_node': 'SLV2J_D266B',\n",
       "  'from_lat': 50.635811,\n",
       "  'from_lon': 30.669817,\n",
       "  'to_lat': 50.6304,\n",
       "  'to_lon': 30.838117,\n",
       "  'distance': 6.41754537289552,\n",
       "  'cost': 1.2835090745791042,\n",
       "  'edge_type': 'PROC',\n",
       "  'airway': 'SLV2J'},\n",
       " {'from_node': 'SLV2J_D266B',\n",
       "  'to_node': 'UKBB',\n",
       "  'from_lat': 50.6304,\n",
       "  'from_lon': 30.838117,\n",
       "  'to_lat': 50.344722,\n",
       "  'to_lon': 30.893333,\n",
       "  'distance': 6.41754537289552,\n",
       "  'cost': 1.2835090745791042,\n",
       "  'edge_type': 'PROC-APT',\n",
       "  'airway': 'SLV2J'}]"
      ]
     },
     "execution_count": 8,
     "metadata": {},
     "output_type": "execute_result"
    }
   ],
   "source": [
    "fpl"
   ]
  },
  {
   "cell_type": "code",
   "execution_count": null,
   "metadata": {},
   "outputs": [],
   "source": []
  }
 ],
 "metadata": {
  "kernelspec": {
   "display_name": "mayflower",
   "language": "python",
   "name": "python3"
  },
  "language_info": {
   "codemirror_mode": {
    "name": "ipython",
    "version": 3
   },
   "file_extension": ".py",
   "mimetype": "text/x-python",
   "name": "python",
   "nbconvert_exporter": "python",
   "pygments_lexer": "ipython3",
   "version": "3.10.16"
  }
 },
 "nbformat": 4,
 "nbformat_minor": 2
}
