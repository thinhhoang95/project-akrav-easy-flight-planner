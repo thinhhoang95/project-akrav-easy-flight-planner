{
 "cells": [
  {
   "cell_type": "code",
   "execution_count": 1,
   "metadata": {},
   "outputs": [],
   "source": [
    "%load_ext autoreload\n",
    "%autoreload 2\n",
    "\n",
    "import numpy as np \n",
    "from matplotlib import pyplot as plt \n",
    "import networkx as nx \n",
    "import pandas as pd "
   ]
  },
  {
   "cell_type": "code",
   "execution_count": 2,
   "metadata": {},
   "outputs": [],
   "source": [
    "from dotenv import load_dotenv\n",
    "import os, sys\n",
    "\n",
    "load_dotenv()\n",
    "\n",
    "# Load PROJECT_ROOT\n",
    "PROJECT_ROOT = os.getenv(\"PROJECT_ROOT\")\n",
    "\n",
    "# Add PROJECT_ROOT to sys.path\n",
    "sys.path.append(PROJECT_ROOT)"
   ]
  },
  {
   "cell_type": "code",
   "execution_count": null,
   "metadata": {},
   "outputs": [
    {
     "data": {
      "text/html": [
       "<div>\n",
       "<style scoped>\n",
       "    .dataframe tbody tr th:only-of-type {\n",
       "        vertical-align: middle;\n",
       "    }\n",
       "\n",
       "    .dataframe tbody tr th {\n",
       "        vertical-align: top;\n",
       "    }\n",
       "\n",
       "    .dataframe thead th {\n",
       "        text-align: right;\n",
       "    }\n",
       "</style>\n",
       "<table border=\"1\" class=\"dataframe\">\n",
       "  <thead>\n",
       "    <tr style=\"text-align: right;\">\n",
       "      <th></th>\n",
       "      <th>flight_id</th>\n",
       "      <th>real_waypoints</th>\n",
       "    </tr>\n",
       "  </thead>\n",
       "  <tbody>\n",
       "    <tr>\n",
       "      <th>0</th>\n",
       "      <td>000042HMJ225</td>\n",
       "      <td>INKIM LJLJ LMML MALTI</td>\n",
       "    </tr>\n",
       "    <tr>\n",
       "      <th>1</th>\n",
       "      <td>010092MSR741</td>\n",
       "      <td>LAKTO BIRES_29 EMEDA LCLK</td>\n",
       "    </tr>\n",
       "    <tr>\n",
       "      <th>2</th>\n",
       "      <td>010092MSR742</td>\n",
       "      <td>LCA SOBOS_91 LAKTO SISIM</td>\n",
       "    </tr>\n",
       "    <tr>\n",
       "      <th>3</th>\n",
       "      <td>010092MSR831</td>\n",
       "      <td>TANSA_98 METRU METRU_30 TOTTI LOTIN REXUN</td>\n",
       "    </tr>\n",
       "    <tr>\n",
       "      <th>4</th>\n",
       "      <td>010092MSR832</td>\n",
       "      <td>ODGAX LUMED SALUN_66 METRU_30</td>\n",
       "    </tr>\n",
       "  </tbody>\n",
       "</table>\n",
       "</div>"
      ],
      "text/plain": [
       "      flight_id                             real_waypoints\n",
       "0  000042HMJ225                      INKIM LJLJ LMML MALTI\n",
       "1  010092MSR741                  LAKTO BIRES_29 EMEDA LCLK\n",
       "2  010092MSR742                   LCA SOBOS_91 LAKTO SISIM\n",
       "3  010092MSR831  TANSA_98 METRU METRU_30 TOTTI LOTIN REXUN\n",
       "4  010092MSR832              ODGAX LUMED SALUN_66 METRU_30"
      ]
     },
     "execution_count": 4,
     "metadata": {},
     "output_type": "execute_result"
    }
   ],
   "source": [
    "routes_df = pd.read_csv(os.path.join(PROJECT_ROOT, \"data\", \"routes_data\", \"cs_2023-04-01.routes.csv\"))\n",
    "# Only keep the real_waypoints and flight_id columns\n",
    "routes_df = routes_df[[\"flight_id\", \"real_waypoints\"]]\n",
    "routes_df.head()"
   ]
  },
  {
   "cell_type": "code",
   "execution_count": 5,
   "metadata": {},
   "outputs": [
    {
     "name": "stdout",
     "output_type": "stream",
     "text": [
      "ATS-FRA graph has 33763 nodes and 0 edges\n"
     ]
    }
   ],
   "source": [
    "# Load the waypoints graph (nodes only)\n",
    "ats_fra_graph = nx.read_gml(os.path.join(PROJECT_ROOT, \"data\", \"graphs\", \"ats_fra_nodes_only.gml\"))\n",
    "print(f\"ATS-FRA graph has {ats_fra_graph.number_of_nodes()} nodes and {ats_fra_graph.number_of_edges()} edges\")"
   ]
  },
  {
   "cell_type": "code",
   "execution_count": 7,
   "metadata": {},
   "outputs": [
    {
     "data": {
      "text/html": [
       "<div>\n",
       "<style scoped>\n",
       "    .dataframe tbody tr th:only-of-type {\n",
       "        vertical-align: middle;\n",
       "    }\n",
       "\n",
       "    .dataframe tbody tr th {\n",
       "        vertical-align: top;\n",
       "    }\n",
       "\n",
       "    .dataframe thead th {\n",
       "        text-align: right;\n",
       "    }\n",
       "</style>\n",
       "<table border=\"1\" class=\"dataframe\">\n",
       "  <thead>\n",
       "    <tr style=\"text-align: right;\">\n",
       "      <th></th>\n",
       "      <th>flight_id</th>\n",
       "      <th>real_waypoints</th>\n",
       "      <th>route_gc_length</th>\n",
       "    </tr>\n",
       "  </thead>\n",
       "  <tbody>\n",
       "    <tr>\n",
       "      <th>0</th>\n",
       "      <td>000042HMJ225</td>\n",
       "      <td>INKIM LJLJ LMML MALTI</td>\n",
       "      <td>439.718803</td>\n",
       "    </tr>\n",
       "    <tr>\n",
       "      <th>1</th>\n",
       "      <td>010092MSR741</td>\n",
       "      <td>LAKTO BIRES_29 EMEDA LCLK</td>\n",
       "      <td>155.366418</td>\n",
       "    </tr>\n",
       "    <tr>\n",
       "      <th>2</th>\n",
       "      <td>010092MSR742</td>\n",
       "      <td>LCA SOBOS_91 LAKTO SISIM</td>\n",
       "      <td>180.431463</td>\n",
       "    </tr>\n",
       "    <tr>\n",
       "      <th>3</th>\n",
       "      <td>010092MSR831</td>\n",
       "      <td>TANSA_98 METRU METRU_30 TOTTI LOTIN REXUN</td>\n",
       "      <td>610.653254</td>\n",
       "    </tr>\n",
       "    <tr>\n",
       "      <th>4</th>\n",
       "      <td>010092MSR832</td>\n",
       "      <td>ODGAX LUMED SALUN_66 METRU_30</td>\n",
       "      <td>559.241133</td>\n",
       "    </tr>\n",
       "  </tbody>\n",
       "</table>\n",
       "</div>"
      ],
      "text/plain": [
       "      flight_id                             real_waypoints  route_gc_length\n",
       "0  000042HMJ225                      INKIM LJLJ LMML MALTI       439.718803\n",
       "1  010092MSR741                  LAKTO BIRES_29 EMEDA LCLK       155.366418\n",
       "2  010092MSR742                   LCA SOBOS_91 LAKTO SISIM       180.431463\n",
       "3  010092MSR831  TANSA_98 METRU METRU_30 TOTTI LOTIN REXUN       610.653254\n",
       "4  010092MSR832              ODGAX LUMED SALUN_66 METRU_30       559.241133"
      ]
     },
     "execution_count": 7,
     "metadata": {},
     "output_type": "execute_result"
    }
   ],
   "source": [
    "from utils.haversine import haversine_distance\n",
    "\n",
    "# Function to extract first and last waypoints from the route\n",
    "def get_first_last_waypoints(waypoints_str):\n",
    "    waypoints = waypoints_str.split()\n",
    "    if len(waypoints) < 2:\n",
    "        return None, None\n",
    "    return waypoints[0], waypoints[-1]\n",
    "\n",
    "# Calculate the great circle distance for each route\n",
    "def calculate_gc_distance(row):\n",
    "    first_wp, last_wp = get_first_last_waypoints(row['real_waypoints'])\n",
    "    \n",
    "    if first_wp is None or last_wp is None:\n",
    "        return np.nan\n",
    "    \n",
    "    try:\n",
    "        # Get coordinates from the graph\n",
    "        first_node = ats_fra_graph.nodes[first_wp]\n",
    "        last_node = ats_fra_graph.nodes[last_wp]\n",
    "        \n",
    "        # Calculate distance\n",
    "        distance = haversine_distance(\n",
    "            first_node['lat'], first_node['lon'],\n",
    "            last_node['lat'], last_node['lon']\n",
    "        )\n",
    "        return distance\n",
    "    except KeyError:\n",
    "        # Handle case where waypoint is not in the graph\n",
    "        return np.nan\n",
    "\n",
    "# Add the route_gc_length column to the dataframe\n",
    "routes_df['route_gc_length'] = routes_df.apply(calculate_gc_distance, axis=1)\n",
    "\n",
    "# Display the first few rows with the new column\n",
    "routes_df.head()\n"
   ]
  },
  {
   "cell_type": "code",
   "execution_count": 10,
   "metadata": {},
   "outputs": [
    {
     "data": {
      "image/png": "[encoded data removed]",
      "text/plain": [
       "<Figure size 400x300 with 1 Axes>"
      ]
     },
     "metadata": {},
     "output_type": "display_data"
    }
   ],
   "source": [
    "# Create a histogram of route great circle lengths using seaborn\n",
    "import seaborn as sns\n",
    "import matplotlib.pyplot as plt\n",
    "\n",
    "plt.figure(figsize=(4, 3))\n",
    "sns.histplot(data=routes_df, x='route_gc_length', kde=True)\n",
    "plt.title('Distribution of Route Great Circle Lengths')\n",
    "plt.xlabel('Great Circle Length (Nautical Miles)')\n",
    "plt.ylabel('Frequency')\n",
    "plt.show()\n"
   ]
  },
  {
   "cell_type": "code",
   "execution_count": null,
   "metadata": {},
   "outputs": [],
   "source": []
  }
 ],
 "metadata": {
  "kernelspec": {
   "display_name": "deepflow",
   "language": "python",
   "name": "python3"
  },
  "language_info": {
   "codemirror_mode": {
    "name": "ipython",
    "version": 3
   },
   "file_extension": ".py",
   "mimetype": "text/x-python",
   "name": "python",
   "nbconvert_exporter": "python",
   "pygments_lexer": "ipython3",
   "version": "3.12.9"
  }
 },
 "nbformat": 4,
 "nbformat_minor": 2
}
